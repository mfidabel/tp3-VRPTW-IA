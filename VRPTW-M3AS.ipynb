{
 "cells": [
  {
   "cell_type": "markdown",
   "metadata": {},
   "source": [
    "# VRPTW - M3AS"
   ]
  },
  {
   "cell_type": "code",
   "execution_count": 1,
   "metadata": {},
   "outputs": [],
   "source": [
    "import numpy as np"
   ]
  },
  {
   "cell_type": "code",
   "execution_count": 2,
   "metadata": {},
   "outputs": [],
   "source": [
    "class Cliente:\n",
    "    def __init__(self, numero, x, y, demanda, inicio, fin, tiempo):\n",
    "        self.numero = int(float(numero))\n",
    "        self.x = float(x)\n",
    "        self.y = float(y)\n",
    "        self.demanda = float(demanda)\n",
    "        self.inicio = float(inicio)\n",
    "        self.fin = float(fin)\n",
    "        self.tiempo = float(tiempo)\n",
    "\n",
    "    @property\n",
    "    def coords(self):\n",
    "        return np.array([self.x, self.y])"
   ]
  },
  {
   "cell_type": "code",
   "execution_count": 3,
   "metadata": {},
   "outputs": [],
   "source": [
    "# Preprocesar los datos de entrada\n",
    "def procesar_instancia(filename):\n",
    "    with open(filename, \"r\") as f:\n",
    "        lineas = f.readlines()\n",
    "\n",
    "    # Obtener clientes y capacidad\n",
    "    clientes = int(lineas[1])\n",
    "    capacidad = int(lineas[3])\n",
    "\n",
    "    # Obtener por cada cliente los datos\n",
    "    lista = []\n",
    "    for cliente in lineas[5:]:\n",
    "        lista.append(Cliente(*cliente.strip().split()))\n",
    "\n",
    "    return capacidad, lista"
   ]
  },
  {
   "cell_type": "code",
   "execution_count": 7,
   "metadata": {},
   "outputs": [],
   "source": [
    "capacidad_c101, clientes_c101 = procesar_instancia(\"datos/original/vrptw_c101.txt\")\n",
    "capacidad_rc101, clientes_rc101 = procesar_instancia(\"datos/original/vrptw_rc101.txt\")\n",
    "\n",
    "capacidad = capacidad_c101\n",
    "clientes = clientes_c101\n",
    "num_clientes = len(clientes)"
   ]
  },
  {
   "cell_type": "code",
   "execution_count": 54,
   "metadata": {},
   "outputs": [],
   "source": [
    "def hallar_tiempo(i, j):\n",
    "    return np.linalg.norm(clientes[i].coords - clientes[j].coords)"
   ]
  },
  {
   "cell_type": "code",
   "execution_count": 16,
   "metadata": {},
   "outputs": [],
   "source": [
    "class Solucion:\n",
    "    caminos = [[]]\n",
    "    tiempo_actual = 0\n",
    "    consumo_capacidad = 0\n",
    "    \n",
    "    def __init__(self):\n",
    "        self.visitados = np.zeros(num_clientes, dtype=np.bool8)\n",
    "        self.visitados[0] = True\n",
    "\n",
    "    @property\n",
    "    def num_vehiculos(self):\n",
    "        return len(self.caminos)\n",
    "\n",
    "    @property\n",
    "    def nodo_actual(self):\n",
    "        if len(self.caminos[-1]) > 0:\n",
    "            _ , actual = self.caminos[-1][-1]\n",
    "        else:\n",
    "            actual = 0\n",
    "        return actual\n",
    "\n",
    "    def camino_en_vehiculo(self, i):\n",
    "        return self.caminos[i]\n",
    "\n",
    "    @property\n",
    "    def completo(self):\n",
    "        return False not in self.visitados\n",
    "\n",
    "    def siguientes_nodos(self, i):\n",
    "        no_visitados = np.where(self.visitados == False)\n",
    "        siguientes_j = []\n",
    "\n",
    "        for j in no_visitados:\n",
    "            # Verificar que cumpla la ventana\n",
    "            tiempo = hallar_tiempo(i, j)\n",
    "            tiempo_al_llegar = max(self.tiempo_actual + tiempo, clientes[j].inicio)\n",
    "            \n",
    "            if tiempo_al_llegar + clientes[j].tiempo > clientes[j].fin:\n",
    "                continue # No va a poder atenderle antes del cierre\n",
    "            \n",
    "            # Verificar que cumpla la capacidad del vehiculo\n",
    "            if self.consumo_capacidad + clientes[j].demanda > capacidad:\n",
    "                continue # Supera la capacidad\n",
    "\n",
    "            # Se puede visitar\n",
    "            siguientes_j.append(j)\n",
    "\n",
    "        return siguientes_j\n",
    "\n",
    "    def agregar_camino(self, j):\n",
    "        # El sumamos al tiempo lo que cuesta llegar hasta j y su servicio (se incluye la espera si llega antes)\n",
    "        self.tiempo_actual = max(hallar_tiempo(self.nodo_actual, j) + self.tiempo_actual, clientes[j].inicio) + clientes[j].tiempo\n",
    "        self.visitados[j] = True\n",
    "        self.consumo_capacidad = self.consumo_capacidad + clientes[j].demanda\n",
    "        camino = (self.nodo_actual, j)\n",
    "        self.caminos[-1].append( camino )\n",
    "\n",
    "    def agregar_vehiculo(self):\n",
    "        self.caminos.append([])\n",
    "        self.tiempo_actual = 0\n",
    "\n",
    "    def evaluar_tiempo_total(self):\n",
    "        \"\"\"\n",
    "        Evalua el tiempo recorrido sin tener en cuenta el tiempo esperado\n",
    "        \"\"\"\n",
    "        tiempo = 0.0\n",
    "        for vehiculo in self.caminos:\n",
    "            for viaje in vehiculo:\n",
    "                tiempo = tiempo + hallar_tiempo(*viaje)\n",
    "\n",
    "        return tiempo"
   ]
  },
  {
   "cell_type": "code",
   "execution_count": 56,
   "metadata": {},
   "outputs": [],
   "source": [
    "m = 100\n",
    "shape = (num_clientes, num_clientes)\n",
    "vistado = np.zeros(shape, dtype=np.bool8)\n",
    "tabla_t = np.empty(shape) # T_i,j\n",
    "tabla_n_1 = np.empty(shape) # N_i,j\n",
    "tabla_n_2 = np.empty(shape) # N_i,j\n",
    "lambda_p = 0.1\n",
    "beta = 0.5"
   ]
  },
  {
   "cell_type": "code",
   "execution_count": 58,
   "metadata": {},
   "outputs": [],
   "source": [
    "# Inicializar visibilidad de tiempo\n",
    "for i in range(num_clientes):\n",
    "    for j in range(num_clientes):\n",
    "        tabla_n_2[i,j] = 1.0 / hallar_tiempo(i,j) if hallar_tiempo(i,j) > 0 else 1"
   ]
  },
  {
   "cell_type": "code",
   "execution_count": 9,
   "metadata": {},
   "outputs": [],
   "source": [
    "def feromona_calculada(i, j):\n",
    "    visibilidades = ( tabla_n_1[i, j] ** lambda_p ) * (tabla_n_2[i, j] ** (1.0 - lambda_p))\n",
    "    return tabla_t[i,j] * (visibilidades ** beta )"
   ]
  },
  {
   "cell_type": "markdown",
   "metadata": {},
   "source": [
    "$$\n",
    "p_{i,j} =\n",
    "\\begin{cases} \n",
    "      \\frac{\\tau_{i,j} \\left[ n_{i,j}^0 \\right]^{\\lambda \\beta} \\left[ n_{i,j}^1 \\right]^{(1-\\lambda) \\beta}}\n",
    "      {\\sum_{x \\in J_i} \\tau_{i,x} \\left[ n_{i,x}^0 \\right]^{\\lambda \\beta} \\left[ n_{i,x}^1 \\right]^{(1-\\lambda) \\beta}} & \\text{si } j \\in J_i \\\\\n",
    "     0 & \\text{ en caso contrario}\n",
    "\\end{cases}\n",
    "$$"
   ]
  },
  {
   "cell_type": "code",
   "execution_count": 14,
   "metadata": {},
   "outputs": [],
   "source": [
    "def probabilidades_transicion(i: int, nodos: [int]):\n",
    "    probabilidades = np.array([ feromona_calculada(i,j) for j in nodos ])\n",
    "    total_probabilidades = probabilidades.sum()\n",
    "    return probabilidades / total_probabilidades"
   ]
  },
  {
   "cell_type": "code",
   "execution_count": 15,
   "metadata": {},
   "outputs": [],
   "source": [
    "def seleccionar_siguiente_estado(solucion: Solucion):\n",
    "    # Seleccionar siguiente nodo con distribución de probabilidad\n",
    "    nodos_factibles = solucion.siguientes_nodos\n",
    "\n",
    "    if len(nodos_factibles) > 0: # Hay nodos\n",
    "        return np.random.choice(nodos_factibles, p=probabilidades_transicion(i, nodos_factibles))\n",
    "    else:\n",
    "        # Ya es muy tarde o ya atendió su capacidad máxima\n",
    "        return 0 # Volvemos al deposito"
   ]
  },
  {
   "cell_type": "code",
   "execution_count": 17,
   "metadata": {},
   "outputs": [],
   "source": [
    "def construir_solucion():\n",
    "    solucion = Solucion()\n",
    "    while not solucion.completo: # While existen estados no visitados\n",
    "        siguiente = seleccionar_siguiente_estado()\n",
    "        solucion.append(siguiente)\n",
    "    return solucion"
   ]
  },
  {
   "cell_type": "code",
   "execution_count": null,
   "metadata": {},
   "outputs": [],
   "source": [
    "generacion = 0\n",
    "while True: # While not condición de parada\n",
    "    generacion = generacion + 1\n",
    "    for i in range(0, m): # Por cada hormiga\n",
    "        # Construir solución\n",
    "        # Evaluar solución\n",
    "        # Actualizar Feromonas\n",
    "        # Calcular mejor solución\n",
    "        pass"
   ]
  }
 ],
 "metadata": {
  "interpreter": {
   "hash": "37ea9703771e7aab40662961d072832c1da4a2ec9f284ca54c111d85984b2b40"
  },
  "kernelspec": {
   "display_name": "Python 3.8.8 64-bit ('base': conda)",
   "name": "python3"
  },
  "language_info": {
   "codemirror_mode": {
    "name": "ipython",
    "version": 3
   },
   "file_extension": ".py",
   "mimetype": "text/x-python",
   "name": "python",
   "nbconvert_exporter": "python",
   "pygments_lexer": "ipython3",
   "version": "3.8.8"
  },
  "orig_nbformat": 4
 },
 "nbformat": 4,
 "nbformat_minor": 2
}
