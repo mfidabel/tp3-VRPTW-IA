{
 "cells": [
  {
   "cell_type": "markdown",
   "metadata": {},
   "source": [
    "# VRPTW - M3AS"
   ]
  },
  {
   "cell_type": "code",
   "execution_count": 51,
   "metadata": {},
   "outputs": [
    {
     "name": "stdout",
     "output_type": "stream",
     "text": [
      "Requirement already satisfied: paretoset in /Users/mfidabel/opt/anaconda3/lib/python3.8/site-packages (1.2.0)\r\n",
      "Requirement already satisfied: pandas in /Users/mfidabel/opt/anaconda3/lib/python3.8/site-packages (from paretoset) (1.2.4)\r\n",
      "Requirement already satisfied: numpy in /Users/mfidabel/opt/anaconda3/lib/python3.8/site-packages (from paretoset) (1.20.1)\r\n",
      "Requirement already satisfied: python-dateutil>=2.7.3 in /Users/mfidabel/opt/anaconda3/lib/python3.8/site-packages (from pandas->paretoset) (2.8.1)\r\n",
      "Requirement already satisfied: pytz>=2017.3 in /Users/mfidabel/opt/anaconda3/lib/python3.8/site-packages (from pandas->paretoset) (2021.1)\r\n",
      "Requirement already satisfied: six>=1.5 in /Users/mfidabel/opt/anaconda3/lib/python3.8/site-packages (from python-dateutil>=2.7.3->pandas->paretoset) (1.15.0)\r\n"
     ]
    }
   ],
   "source": [
    "!pip install paretoset\n",
    "from paretoset import paretoset\n",
    "import numpy as np\n",
    "from tqdm.notebook import trange, tqdm"
   ]
  },
  {
   "cell_type": "code",
   "execution_count": 36,
   "metadata": {},
   "outputs": [],
   "source": [
    "class Cliente:\n",
    "    def __init__(self, numero, x, y, demanda, inicio, fin, tiempo):\n",
    "        self.numero = int(float(numero))\n",
    "        self.x = float(x)\n",
    "        self.y = float(y)\n",
    "        self.demanda = float(demanda)\n",
    "        self.inicio = float(inicio)\n",
    "        self.fin = float(fin)\n",
    "        self.tiempo = float(tiempo)\n",
    "\n",
    "    @property\n",
    "    def coords(self):\n",
    "        return np.array([self.x, self.y])"
   ]
  },
  {
   "cell_type": "code",
   "execution_count": 37,
   "metadata": {},
   "outputs": [],
   "source": [
    "# Preprocesar los datos de entrada\n",
    "def procesar_instancia(filename):\n",
    "    with open(filename, \"r\") as f:\n",
    "        lineas = f.readlines()\n",
    "\n",
    "    # Obtener clientes y capacidad\n",
    "    clientes = int(lineas[1])\n",
    "    capacidad = int(lineas[3])\n",
    "\n",
    "    # Obtener por cada cliente los datos\n",
    "    lista = []\n",
    "    for cliente in lineas[5:]:\n",
    "        lista.append(Cliente(*cliente.strip().split()))\n",
    "\n",
    "    return capacidad, lista"
   ]
  },
  {
   "cell_type": "code",
   "execution_count": 38,
   "metadata": {},
   "outputs": [],
   "source": [
    "capacidad_c101, clientes_c101 = procesar_instancia(\"datos/original/vrptw_c101.txt\")\n",
    "capacidad_rc101, clientes_rc101 = procesar_instancia(\"datos/original/vrptw_rc101.txt\")"
   ]
  },
  {
   "cell_type": "code",
   "execution_count": 39,
   "metadata": {},
   "outputs": [],
   "source": [
    "capacidad = capacidad_c101\n",
    "clientes = clientes_c101\n",
    "num_clientes = len(clientes)"
   ]
  },
  {
   "cell_type": "code",
   "execution_count": 40,
   "metadata": {},
   "outputs": [],
   "source": [
    "def hallar_tiempo(i: int, j: int):\n",
    "    return np.linalg.norm(clientes[i].coords - clientes[j].coords)"
   ]
  },
  {
   "cell_type": "code",
   "execution_count": 41,
   "metadata": {},
   "outputs": [],
   "source": [
    "class Solucion:\n",
    "\n",
    "    def __init__(self):\n",
    "        self.visitados = np.zeros(num_clientes, dtype=np.bool8)\n",
    "        self.visitados[0] = True\n",
    "        self.caminos = [[]]\n",
    "        self.tiempo_actual = 0\n",
    "        self.consumo_capacidad = 0\n",
    "\n",
    "    @property\n",
    "    def num_vehiculos(self):\n",
    "        return len(self.caminos)\n",
    "\n",
    "    @property\n",
    "    def nodo_actual(self):\n",
    "        if len(self.caminos[-1]) > 0:\n",
    "            _ , actual = self.caminos[-1][-1]\n",
    "        else:\n",
    "            actual = 0\n",
    "        return actual\n",
    "\n",
    "    def camino_en_vehiculo(self, i):\n",
    "        return self.caminos[i]\n",
    "\n",
    "    @property\n",
    "    def completo(self):\n",
    "        return False not in self.visitados\n",
    "\n",
    "    @property\n",
    "    def siguientes_nodos(self):\n",
    "        i = self.nodo_actual\n",
    "        no_visitados = np.where(self.visitados == False)[0]\n",
    "        siguientes_j = []\n",
    "\n",
    "        for j in no_visitados:\n",
    "            # Verificar que cumpla la ventana\n",
    "            tiempo = hallar_tiempo(i, j)\n",
    "            tiempo_al_llegar = max(self.tiempo_actual + tiempo, clientes[j].inicio)\n",
    "            \n",
    "            if tiempo_al_llegar + clientes[j].tiempo > clientes[j].fin:\n",
    "                continue # No va a poder atenderle antes del cierre\n",
    "            \n",
    "            # Verificar que cumpla la capacidad del vehiculo\n",
    "            if self.consumo_capacidad + clientes[j].demanda > capacidad:\n",
    "                continue # Supera la capacidad\n",
    "\n",
    "            # Se puede visitar\n",
    "            siguientes_j.append(j)\n",
    "\n",
    "        return siguientes_j\n",
    "\n",
    "    def agregar_camino(self, j):\n",
    "        # El sumamos al tiempo lo que cuesta llegar hasta j y su servicio (se incluye la espera si llega antes)\n",
    "        self.tiempo_actual = max(hallar_tiempo(self.nodo_actual, j) + self.tiempo_actual, clientes[j].inicio) + clientes[j].tiempo\n",
    "        self.visitados[j] = True\n",
    "        self.consumo_capacidad = self.consumo_capacidad + clientes[j].demanda\n",
    "        camino = (self.nodo_actual, j)\n",
    "        self.caminos[-1].append( camino )\n",
    "\n",
    "    def agregar_vehiculo(self):\n",
    "        self.caminos.append([])\n",
    "        self.tiempo_actual = 0\n",
    "        self.consumo_capacidad = 0\n",
    "\n",
    "    @property\n",
    "    def tiempo_total(self):\n",
    "        \"\"\"\n",
    "        Evalua el tiempo recorrido sin tener en cuenta el tiempo esperado\n",
    "        \"\"\"\n",
    "        tiempo = 0.0\n",
    "        for vehiculo in self.caminos:\n",
    "            for viaje in vehiculo:\n",
    "                tiempo = tiempo + hallar_tiempo(*viaje)\n",
    "\n",
    "        return tiempo"
   ]
  },
  {
   "cell_type": "code",
   "execution_count": 42,
   "metadata": {},
   "outputs": [],
   "source": [
    "m = 10\n",
    "shape = (num_clientes, num_clientes)\n",
    "p = 0.5\n",
    "beta = 0.5\n"
   ]
  },
  {
   "cell_type": "code",
   "execution_count": 43,
   "metadata": {},
   "outputs": [],
   "source": [
    "tabla_t = np.full(shape, 1.0) # T_i,j\n",
    "tabla_n_2 = np.empty(shape) # N_i,j\n",
    "\n",
    "# Inicializar visibilidad de tiempo\n",
    "for i in range(num_clientes):\n",
    "    for j in range(num_clientes):\n",
    "        tabla_n_2[i,j] = 1.0 / hallar_tiempo(i,j) if hallar_tiempo(i,j) > 0 else 1"
   ]
  },
  {
   "cell_type": "code",
   "execution_count": 44,
   "metadata": {},
   "outputs": [],
   "source": [
    "# Calcular Función Objetivo delta t\n",
    "norm_vehiculo = 10\n",
    "norm_tiempo = 820.0\n",
    "\n",
    "def feromona_a_depositar(solucion: Solucion):\n",
    "    return 1 / (solucion.num_vehiculos / norm_vehiculo + solucion.tiempo_total / norm_tiempo)"
   ]
  },
  {
   "cell_type": "code",
   "execution_count": 45,
   "metadata": {},
   "outputs": [],
   "source": [
    "# Tmax\n",
    "def t_max_calculado(feromona: float):\n",
    "    return feromona / (1 - p)\n",
    "\n",
    "def t_min_calculado(t_max: float):\n",
    "    return t_max / 2 / m"
   ]
  },
  {
   "cell_type": "code",
   "execution_count": 46,
   "metadata": {},
   "outputs": [],
   "source": [
    "def feromona_calculada(i, j):\n",
    "    visibilidades = tabla_n_2[i, j] \n",
    "    return tabla_t[i,j] * (visibilidades ** beta )"
   ]
  },
  {
   "cell_type": "markdown",
   "metadata": {},
   "source": [
    "$$\n",
    "p_{i,j} =\n",
    "\\begin{cases} \n",
    "      \\frac{\\tau_{i,j} \\left[ n_{i,j}^0 \\right]^{\\lambda \\beta} \\left[ n_{i,j}^1 \\right]^{(1-\\lambda) \\beta}}\n",
    "      {\\sum_{x \\in J_i} \\tau_{i,x} \\left[ n_{i,x}^0 \\right]^{\\lambda \\beta} \\left[ n_{i,x}^1 \\right]^{(1-\\lambda) \\beta}} & \\text{si } j \\in J_i \\\\\n",
    "     0 & \\text{ en caso contrario}\n",
    "\\end{cases}\n",
    "$$"
   ]
  },
  {
   "cell_type": "code",
   "execution_count": 47,
   "metadata": {},
   "outputs": [],
   "source": [
    "def probabilidades_transicion(i: int, nodos: [int]):\n",
    "    probabilidades = np.array([ feromona_calculada(i,j) for j in nodos ])\n",
    "    total_probabilidades = probabilidades.sum()\n",
    "    return probabilidades / total_probabilidades"
   ]
  },
  {
   "cell_type": "code",
   "execution_count": 48,
   "metadata": {},
   "outputs": [],
   "source": [
    "def seleccionar_siguiente_estado(solucion: Solucion):\n",
    "    # Seleccionar siguiente nodo con distribución de probabilidad\n",
    "    nodos_factibles = solucion.siguientes_nodos\n",
    "\n",
    "    if len(nodos_factibles) > 0: # Hay nodos\n",
    "        return np.random.choice(nodos_factibles, p=probabilidades_transicion(solucion.nodo_actual, nodos_factibles))\n",
    "    else:\n",
    "        # Ya es muy tarde o ya atendió su capacidad máxima\n",
    "        return 0 # Volvemos al deposito"
   ]
  },
  {
   "cell_type": "code",
   "execution_count": 49,
   "metadata": {},
   "outputs": [],
   "source": [
    "def construir_solucion() -> Solucion:\n",
    "    solucion = Solucion()\n",
    "    while not solucion.completo: # While existen estados no visitados\n",
    "        siguiente = seleccionar_siguiente_estado(solucion)\n",
    "        solucion.agregar_camino(siguiente)\n",
    "\n",
    "        if siguiente == 0:\n",
    "            # No hay más nodos siguientes, se debe usar otro auto\n",
    "            solucion.agregar_vehiculo()\n",
    "\n",
    "    solucion.agregar_camino(0) # Volver al deposito\n",
    "    return solucion"
   ]
  },
  {
   "cell_type": "code",
   "execution_count": 54,
   "metadata": {},
   "outputs": [
    {
     "data": {
      "text/plain": "Generación:   0%|          | 0/10 [00:00<?, ?it/s]",
      "application/vnd.jupyter.widget-view+json": {
       "version_major": 2,
       "version_minor": 0,
       "model_id": "4cac813bf4be435da53a8320f9b5bca1"
      }
     },
     "metadata": {},
     "output_type": "display_data"
    }
   ],
   "source": [
    "pareto_set: [Solucion] = []\n",
    "for generacion in trange(10, desc=\"Generación\"): # While not condición de parada\n",
    "    for i in range(0, m): # Por cada hormiga\n",
    "        # Construir solución y evaluar\n",
    "        solucion = construir_solucion()\n",
    "\n",
    "        # Actaulizar pareto si es que domina\n",
    "        pareto_set.append(solucion)\n",
    "        objective_values_array = np.vstack([\n",
    "            [s.num_vehiculos, s.tiempo_total] for s in pareto_set\n",
    "        ])\n",
    "        mask = paretoset(objective_values_array, sense=[\"min\", \"min\"])\n",
    "        pareto_set = [solucion for (solucion, m) in zip(pareto_set, mask) if m]\n",
    "    \n",
    "    # Actualizar Feromonas\n",
    "    tabla_t = tabla_t * (1 - p) # Decadencia\n",
    "\n",
    "    for Y_Known in pareto_set:\n",
    "        # Calcular delta t, tmax y tmin\n",
    "        feromona = feromona_a_depositar(Y_Known)\n",
    "        t_max = t_max_calculado(feromona)\n",
    "        t_min = t_min_calculado(t_max)\n",
    "        # Actualizar\n",
    "        for ruta in Y_Known.caminos:\n",
    "            for (i, j) in ruta:\n",
    "                tabla_t[i, j] = max(min(tabla_t[i, j] + feromona, t_max), t_min)"
   ]
  },
  {
   "cell_type": "code",
   "execution_count": 34,
   "metadata": {},
   "outputs": [
    {
     "data": {
      "text/plain": "[<__main__.Solucion at 0x7fcbdb1092b0>, <__main__.Solucion at 0x7fcbdaebb640>]"
     },
     "execution_count": 34,
     "metadata": {},
     "output_type": "execute_result"
    }
   ],
   "source": [
    "pareto_set"
   ]
  }
 ],
 "metadata": {
  "interpreter": {
   "hash": "37ea9703771e7aab40662961d072832c1da4a2ec9f284ca54c111d85984b2b40"
  },
  "kernelspec": {
   "display_name": "Python 3",
   "language": "python",
   "name": "python3"
  },
  "language_info": {
   "codemirror_mode": {
    "name": "ipython",
    "version": 3
   },
   "file_extension": ".py",
   "mimetype": "text/x-python",
   "name": "python",
   "nbconvert_exporter": "python",
   "pygments_lexer": "ipython3",
   "version": "3.8.8"
  },
  "orig_nbformat": 4
 },
 "nbformat": 4,
 "nbformat_minor": 2
}