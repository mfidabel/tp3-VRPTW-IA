{
 "cells": [
  {
   "cell_type": "markdown",
   "id": "cde58f3c",
   "metadata": {},
   "source": [
    "### Importa los módulos necesarios"
   ]
  },
  {
   "cell_type": "code",
   "execution_count": 1,
   "id": "c35e77ee",
   "metadata": {},
   "outputs": [],
   "source": [
    "import random\n",
    "import math\n",
    "import os\n",
    "\n",
    "import numpy as np\n",
    "import pandas as pd\n",
    "import matplotlib.pyplot as plt\n",
    "import matplotlib.ticker as ticker\n",
    "\n",
    "from paretoset import paretoset\n",
    "from tqdm.notebook import trange, tqdm\n",
    "\n",
    "%matplotlib inline\n",
    "\n",
    "import matplotlib.pyplot as plt"
   ]
  },
  {
   "cell_type": "markdown",
   "id": "31a7d56a",
   "metadata": {},
   "source": [
    "### Definición del problema"
   ]
  },
  {
   "cell_type": "code",
   "execution_count": 2,
   "id": "62972280",
   "metadata": {},
   "outputs": [],
   "source": [
    "class Cliente:\n",
    "    def __init__(self, numero, x, y, demanda, inicio, fin, tiempo):\n",
    "        self.numero = int(float(numero))\n",
    "        self.x = float(x)\n",
    "        self.y = float(y)\n",
    "        self.demanda = float(demanda)\n",
    "        self.inicio = float(inicio)\n",
    "        self.fin = float(fin)\n",
    "        self.tiempo = float(tiempo)\n",
    "\n",
    "    @property\n",
    "    def coords(self):\n",
    "        return np.array([self.x, self.y])"
   ]
  },
  {
   "cell_type": "code",
   "execution_count": 3,
   "id": "851de6ec",
   "metadata": {},
   "outputs": [],
   "source": [
    "# Preprocesar los datos de entrada\n",
    "def procesar_instancia(filename):\n",
    "    with open(filename, \"r\") as f:\n",
    "        lineas = f.readlines()\n",
    "\n",
    "    # Obtener clientes y capacidad\n",
    "    clientes = int(lineas[1])\n",
    "    capacidad = int(lineas[3])\n",
    "\n",
    "    # Obtener por cada cliente los datos\n",
    "    lista = []\n",
    "    for cliente in lineas[5:]:\n",
    "        lista.append(Cliente(*cliente.strip().split()))\n",
    "\n",
    "    return {'capacidad': capacidad, 'clientes': lista, 'num': len(lista)}\n",
    "\n",
    "# Halla la distancia euclidiana entre dos clientes\n",
    "def hallar_tiempo(i: int, j: int, clientes: [Cliente]):\n",
    "    return np.linalg.norm(clientes[i].coords - clientes[j].coords)\n",
    "\n",
    "# Convierte la lista en un pareto set\n",
    "def obtener_pareto_set(lista):\n",
    "    objective_values_array = np.vstack([\n",
    "        [s.num_vehiculos, s.tiempo_total] for s in lista\n",
    "    ])\n",
    "    mask = paretoset(objective_values_array, sense=[\"min\", \"min\"])\n",
    "    return [solucion for (solucion, m) in zip(lista, mask) if m]"
   ]
  },
  {
   "cell_type": "code",
   "execution_count": 4,
   "id": "304bd6e8",
   "metadata": {},
   "outputs": [],
   "source": [
    "class Solucion:\n",
    "    def __init__(self, instancia):\n",
    "        self.visitados = np.zeros(instancia['num'], dtype=np.bool8)\n",
    "        self.visitados[0] = True\n",
    "        self.caminos = [[]]\n",
    "        self.tiempo_actual = 0\n",
    "        self.consumo_capacidad = 0\n",
    "        \n",
    "        self.capacidad = instancia['capacidad']\n",
    "        self.clientes = instancia['clientes']\n",
    "\n",
    "    @property\n",
    "    def num_vehiculos(self):\n",
    "        return len(self.caminos)\n",
    "\n",
    "    @property\n",
    "    def nodo_actual(self):\n",
    "        if len(self.caminos[-1]) > 0:\n",
    "            _ , actual = self.caminos[-1][-1]\n",
    "        else:\n",
    "            actual = 0\n",
    "        return actual\n",
    "\n",
    "    def camino_en_vehiculo(self, i):\n",
    "        return self.caminos[i]\n",
    "\n",
    "    @property\n",
    "    def completo(self):\n",
    "        return False not in self.visitados\n",
    "\n",
    "    @property\n",
    "    def siguientes_nodos(self):\n",
    "        i = self.nodo_actual\n",
    "        no_visitados = np.where(self.visitados == False)[0]\n",
    "        siguientes_j = []\n",
    "\n",
    "        for j in no_visitados:\n",
    "            # Verificar que cumpla la ventana\n",
    "            tiempo = hallar_tiempo(i, j, self.clientes)\n",
    "            tiempo_al_llegar = max(self.tiempo_actual + tiempo, self.clientes[j].inicio)\n",
    "            \n",
    "            if tiempo_al_llegar + self.clientes[j].tiempo > self.clientes[j].fin:\n",
    "                continue # No va a poder atenderle antes del cierre\n",
    "            \n",
    "            # Verificar que cumpla la capacidad del vehiculo\n",
    "            if self.consumo_capacidad + self.clientes[j].demanda > self.capacidad:\n",
    "                continue # Supera la capacidad\n",
    "\n",
    "            # Se puede visitar\n",
    "            siguientes_j.append(j)\n",
    "\n",
    "        return siguientes_j\n",
    "\n",
    "    def agregar_camino(self, j):\n",
    "        if j != 0 and self.visitados[j]:\n",
    "            raise Exception(\"El cliente ya fue visitado.\")\n",
    "        \n",
    "        # El sumamos al tiempo lo que cuesta llegar hasta j y su servicio (se incluye la espera si llega antes)\n",
    "        self.tiempo_actual = max(hallar_tiempo(self.nodo_actual, j, self.clientes) + \n",
    "                                 self.tiempo_actual, self.clientes[j].inicio) + self.clientes[j].tiempo\n",
    "        self.visitados[j] = True\n",
    "        self.consumo_capacidad = self.consumo_capacidad + self.clientes[j].demanda\n",
    "        camino = (self.nodo_actual, j)\n",
    "        self.caminos[-1].append( camino )\n",
    "\n",
    "    def agregar_vehiculo(self):\n",
    "        self.caminos.append([])\n",
    "        self.tiempo_actual = 0\n",
    "        self.consumo_capacidad = 0\n",
    "\n",
    "    @property\n",
    "    def tiempo_total(self):\n",
    "        \"\"\"\n",
    "        Evalua el tiempo recorrido sin tener en cuenta el tiempo esperado\n",
    "        \"\"\"\n",
    "        tiempo = 0.0\n",
    "        for vehiculo in self.caminos:\n",
    "            for viaje in vehiculo:\n",
    "                tiempo = tiempo + hallar_tiempo(*viaje, self.clientes)\n",
    "\n",
    "        return tiempo"
   ]
  },
  {
   "cell_type": "markdown",
   "id": "6854f8bd",
   "metadata": {},
   "source": [
    "### Implementación del algoritmo M3AS"
   ]
  },
  {
   "cell_type": "code",
   "execution_count": 5,
   "id": "09f00113",
   "metadata": {},
   "outputs": [],
   "source": [
    "# Calcular Función Objetivo delta t\n",
    "def feromona_a_depositar(solucion: Solucion, norm_vehiculo, norm_tiempo):\n",
    "    return 1 / (solucion.num_vehiculos / norm_vehiculo + solucion.tiempo_total / norm_tiempo)\n",
    "\n",
    "\n",
    "def t_max_calculado(feromona: float, p: float):\n",
    "    return feromona / (1 - p)\n",
    "\n",
    "\n",
    "def t_min_calculado(t_max: float, m: int):\n",
    "    return t_max / 2 / m\n",
    "\n",
    "\n",
    "def feromona_calculada(i, j, tabla_t, tabla_n_2, beta):\n",
    "    visibilidades = tabla_n_2[i, j] \n",
    "    return tabla_t[i,j] * (visibilidades ** beta )\n",
    "\n",
    "\n",
    "def probabilidades_transicion(i: int, nodos: [int], tabla_t, tabla_n_2, beta: float):\n",
    "    probabilidades = np.array([ feromona_calculada(i,j, tabla_t, tabla_n_2, beta) for j in nodos ])\n",
    "    total_probabilidades = probabilidades.sum()\n",
    "    return probabilidades / total_probabilidades\n",
    "\n",
    "\n",
    "def seleccionar_siguiente_estado(solucion: Solucion, tabla_t, tabla_n_2, beta: float):\n",
    "    # Seleccionar siguiente nodo con distribución de probabilidad\n",
    "    nodos_factibles = solucion.siguientes_nodos\n",
    "\n",
    "    if len(nodos_factibles) > 0: # Hay nodos\n",
    "        return np.random.choice(nodos_factibles, p=probabilidades_transicion(\n",
    "            solucion.nodo_actual, nodos_factibles, tabla_t, tabla_n_2, beta))\n",
    "    else:\n",
    "        # Ya es muy tarde o ya atendió su capacidad máxima\n",
    "        return 0 # Volvemos al deposito\n",
    "\n",
    "\n",
    "def construir_solucion(instancia: dict, tabla_t, tabla_n_2, beta: float) -> Solucion:\n",
    "    solucion = Solucion(instancia)\n",
    "    while not solucion.completo: # While existen estados no visitados\n",
    "        siguiente = seleccionar_siguiente_estado(solucion, tabla_t, tabla_n_2, beta)\n",
    "        solucion.agregar_camino(siguiente)\n",
    "\n",
    "        if siguiente == 0:\n",
    "            # No hay más nodos siguientes, se debe usar otro auto\n",
    "            solucion.agregar_vehiculo()\n",
    "\n",
    "    solucion.agregar_camino(0) # Volver al deposito\n",
    "    return solucion\n",
    "\n",
    "\n",
    "def m3as(instancia, m=100, p=0.7, beta=0.7, generaciones=10):\n",
    "\n",
    "    n = instancia['num']\n",
    "    tabla_t = np.full((n, n), 1.0) # T_i,j\n",
    "    tabla_n_2 = np.empty((n, n)) # N_i,j\n",
    "\n",
    "    # Inicializar visibilidad de tiempo\n",
    "    for i in range(n):\n",
    "        for j in range(n):\n",
    "            tabla_n_2[i,j] = 1.0 / hallar_tiempo(i,j, instancia['clientes']) \\\n",
    "                             if hallar_tiempo(i,j, instancia['clientes']) > 0 \\\n",
    "                             else 1\n",
    "    \n",
    "    pareto_set: [Solucion] = []\n",
    "    pareto_generacion: [Solucion] = []\n",
    "    \n",
    "    for _ in trange(generaciones, desc=\"Generaciones\", unit=\"gen\"): # While not condición de parada\n",
    "        for _ in trange(m, desc=\"Hormigas\", unit=\"hormiga\", leave=False): # Por cada hormiga\n",
    "            # Construir solución y evaluar\n",
    "            solucion = construir_solucion(instancia, tabla_t, tabla_n_2, beta)\n",
    "\n",
    "            # Actaulizar pareto si es que domina\n",
    "            pareto_generacion.append(solucion)\n",
    "            pareto_set.append(solucion)\n",
    "            pareto_set = obtener_pareto_set(pareto_set)\n",
    "\n",
    "        # Actualizar Feromonas\n",
    "        tabla_t = tabla_t * (1 - p) # Decadencia\n",
    "\n",
    "        for Y_Known in pareto_set:\n",
    "            # Calcular delta t, tmax y tmin\n",
    "            feromona = feromona_a_depositar(Y_Known, norm_vehiculo=10, norm_tiempo=820.0)\n",
    "            t_max = t_max_calculado(feromona, p)\n",
    "            t_min = t_min_calculado(t_max, m)\n",
    "            # Actualizar\n",
    "            for ruta in Y_Known.caminos:\n",
    "                for (i, j) in ruta:\n",
    "                    tabla_t[i, j] = max(min(tabla_t[i, j] + feromona, t_max), t_min)\n",
    "    \n",
    "    return pareto_set, pareto_generacion"
   ]
  },
  {
   "cell_type": "code",
   "execution_count": 6,
   "id": "a62c669f",
   "metadata": {},
   "outputs": [],
   "source": [
    "def graficar_m3as(pareto_set, pareto_generacion, save=None):\n",
    "    fig, ax = plt.subplots(figsize=(10, 8))\n",
    "\n",
    "    ax.plot([s.tiempo_total for s in pareto_generacion],\n",
    "            [s.num_vehiculos for s in pareto_generacion],\n",
    "            'bo',\n",
    "            label=\"Soluciones\")\n",
    "\n",
    "    ax.plot([s.tiempo_total for s in pareto_set],\n",
    "            [s.num_vehiculos for s in pareto_set],\n",
    "            'ro',\n",
    "            label=\"Pareto Set\")\n",
    "\n",
    "    ax.set(xlabel=\"Tiempo de viaje\",\n",
    "           ylabel=\"Nº de Vehículos\",\n",
    "           title=\"Frente Pareto (M3AS)\")\n",
    "    ax.yaxis.set_major_locator(ticker.MultipleLocator())\n",
    "    ax.legend(loc='upper right')\n",
    "\n",
    "    if save:\n",
    "        os.makedirs(\"figs\", exist_ok=True)\n",
    "        plt.savefig(f\"figs/{save}\")"
   ]
  },
  {
   "cell_type": "markdown",
   "id": "493e1e98",
   "metadata": {},
   "source": [
    "### Ejecuta el algoritmo M3AS"
   ]
  },
  {
   "cell_type": "code",
   "execution_count": 7,
   "id": "1e88b684",
   "metadata": {
    "scrolled": false
   },
   "outputs": [
    {
     "data": {
      "text/plain": "Generaciones:   0%|          | 0/10 [00:00<?, ?gen/s]",
      "application/vnd.jupyter.widget-view+json": {
       "version_major": 2,
       "version_minor": 0,
       "model_id": "edbb663ecaa444f48fa887098897914c"
      }
     },
     "metadata": {},
     "output_type": "display_data"
    },
    {
     "data": {
      "text/plain": "Hormigas:   0%|          | 0/100 [00:00<?, ?hormiga/s]",
      "application/vnd.jupyter.widget-view+json": {
       "version_major": 2,
       "version_minor": 0,
       "model_id": "752b4be9d3b945769c3a843e22377b3c"
      }
     },
     "metadata": {},
     "output_type": "display_data"
    },
    {
     "data": {
      "text/plain": "Hormigas:   0%|          | 0/100 [00:00<?, ?hormiga/s]",
      "application/vnd.jupyter.widget-view+json": {
       "version_major": 2,
       "version_minor": 0,
       "model_id": "8f9c09ae71504c74ae90aba5e6be584d"
      }
     },
     "metadata": {},
     "output_type": "display_data"
    },
    {
     "data": {
      "text/plain": "Hormigas:   0%|          | 0/100 [00:00<?, ?hormiga/s]",
      "application/vnd.jupyter.widget-view+json": {
       "version_major": 2,
       "version_minor": 0,
       "model_id": "e5e4765b6a2744cd9620188474e3f960"
      }
     },
     "metadata": {},
     "output_type": "display_data"
    },
    {
     "data": {
      "text/plain": "Hormigas:   0%|          | 0/100 [00:00<?, ?hormiga/s]",
      "application/vnd.jupyter.widget-view+json": {
       "version_major": 2,
       "version_minor": 0,
       "model_id": "d41383ae34904e7289e680ab2d9fc7de"
      }
     },
     "metadata": {},
     "output_type": "display_data"
    },
    {
     "data": {
      "text/plain": "Hormigas:   0%|          | 0/100 [00:00<?, ?hormiga/s]",
      "application/vnd.jupyter.widget-view+json": {
       "version_major": 2,
       "version_minor": 0,
       "model_id": "f93fc6df5d3842b3ab54027e6d34b9ab"
      }
     },
     "metadata": {},
     "output_type": "display_data"
    },
    {
     "data": {
      "text/plain": "Hormigas:   0%|          | 0/100 [00:00<?, ?hormiga/s]",
      "application/vnd.jupyter.widget-view+json": {
       "version_major": 2,
       "version_minor": 0,
       "model_id": "3c74d3c5cb85442bb0e4c3def05bf53a"
      }
     },
     "metadata": {},
     "output_type": "display_data"
    },
    {
     "data": {
      "text/plain": "Hormigas:   0%|          | 0/100 [00:00<?, ?hormiga/s]",
      "application/vnd.jupyter.widget-view+json": {
       "version_major": 2,
       "version_minor": 0,
       "model_id": "7f0246051d6844248bb9825ebf123529"
      }
     },
     "metadata": {},
     "output_type": "display_data"
    },
    {
     "data": {
      "text/plain": "Hormigas:   0%|          | 0/100 [00:00<?, ?hormiga/s]",
      "application/vnd.jupyter.widget-view+json": {
       "version_major": 2,
       "version_minor": 0,
       "model_id": "ce3cd437579c43c183d380d17c79bdf0"
      }
     },
     "metadata": {},
     "output_type": "display_data"
    },
    {
     "data": {
      "text/plain": "Hormigas:   0%|          | 0/100 [00:00<?, ?hormiga/s]",
      "application/vnd.jupyter.widget-view+json": {
       "version_major": 2,
       "version_minor": 0,
       "model_id": "3197791b4edf4bd0b648ea642c06a3b4"
      }
     },
     "metadata": {},
     "output_type": "display_data"
    },
    {
     "data": {
      "text/plain": "Hormigas:   0%|          | 0/100 [00:00<?, ?hormiga/s]",
      "application/vnd.jupyter.widget-view+json": {
       "version_major": 2,
       "version_minor": 0,
       "model_id": "7f4306ac069e4aa08c4c3b23c4479a84"
      }
     },
     "metadata": {},
     "output_type": "display_data"
    },
    {
     "data": {
      "text/plain": "<Figure size 720x576 with 1 Axes>",
      "image/png": "[encoded data removed]"
     },
     "metadata": {
      "needs_background": "light"
     },
     "output_type": "display_data"
    }
   ],
   "source": [
    "instancia = procesar_instancia(\"datos/original/vrptw_c101.txt\")\n",
    "\n",
    "np.random.seed(777) # Para reproducibilidad\n",
    "p_set, p_gen = m3as(instancia, m=100, p=0.7, beta=0.7, generaciones=10)\n",
    "\n",
    "graficar_m3as(p_set, p_gen, save=\"ParetoSetM3AS.jpg\")"
   ]
  },
  {
   "cell_type": "markdown",
   "id": "e9883cae",
   "metadata": {},
   "source": [
    "### Implementa el algoritmo SPEA"
   ]
  },
  {
   "cell_type": "code",
   "execution_count": 8,
   "id": "c296924a",
   "metadata": {},
   "outputs": [],
   "source": [
    "def union(a, b):\n",
    "    c = [x for x in a]\n",
    "    d = [y for y in b if y not in c]\n",
    "    return c + d\n",
    "\n",
    "def cobertura(x, y):\n",
    "    if (x.tiempo_total <= y.tiempo_total and x.num_vehiculos <= y.num_vehiculos):\n",
    "        return True\n",
    "    else:\n",
    "        return False\n",
    "\n",
    "def solucionesNoDominadas(a):\n",
    "    aux = a.copy()\n",
    "    pobDf = determinarDf(aux)\n",
    "    mascara = paretoset(pobDf, sense=[\"min\", \"min\"])\n",
    "    solucion = [x for (x, m) in zip(aux, mascara) if m]\n",
    "    return solucion\n",
    "\n",
    "def asignacionFitness(poblacion, pareto):\n",
    "    for paretoInd in pareto:\n",
    "        count = 0\n",
    "        for pobInd in poblacion:\n",
    "            if cobertura(paretoInd, pobInd):\n",
    "                count += 1\n",
    "        peso = float(count / (len(poblacion) + 1))\n",
    "        paretoInd.fitness = peso\n",
    "    for pobInd in poblacion:\n",
    "        suma = 0.0\n",
    "        for paretoInd in pareto:\n",
    "            if cobertura(paretoInd, pobInd):\n",
    "                suma = suma + paretoInd.fitness\n",
    "        pobInd.fitness = suma + 1\n",
    "    return poblacion, pareto\n",
    "\n",
    "def inicializarIndividuo(instancia):\n",
    "    solucion = Solucion(instancia)\n",
    "    \n",
    "    while not solucion.completo: # While existen estados no visitados\n",
    "        nodos_factibles = solucion.siguientes_nodos\n",
    "        siguiente = np.random.choice(nodos_factibles) if len(nodos_factibles) > 0 else 0\n",
    "        solucion.agregar_camino(siguiente)\n",
    "        \n",
    "        if siguiente == 0:\n",
    "            # No hay más nodos siguientes, se debe usar otro auto\n",
    "            solucion.agregar_vehiculo()\n",
    "    \n",
    "    solucion.agregar_camino(0)\n",
    "    return solucion\n",
    "\n",
    "def torneoBinario(a):\n",
    "    if len(a) != 1:\n",
    "        ganador = random.sample(a, k = 2)\n",
    "        ganador = sorted(ganador, key=lambda x: x.fitness)\n",
    "        a.remove(ganador[0])\n",
    "        return ganador[0]\n",
    "    else:\n",
    "        return a[0]\n",
    "\n",
    "def obtenerCromosoma(caminos):\n",
    "    cromosoma = []\n",
    "    for ruta in caminos:\n",
    "        for arista in ruta:\n",
    "            if arista[0] != 0:\n",
    "                cromosoma.append(arista[0])\n",
    "    return cromosoma\n",
    "\n",
    "def fenotipo(cromosoma, instancia):\n",
    "    solucion = Solucion(instancia)\n",
    "    \n",
    "    while not solucion.completo: # While existen estados no visitados\n",
    "        nodos_factibles = solucion.siguientes_nodos\n",
    "        if len(nodos_factibles) == 0:\n",
    "            siguiente = 0\n",
    "        else:\n",
    "            if cromosoma[0] in nodos_factibles:\n",
    "                siguiente = cromosoma[0]\n",
    "            else:\n",
    "                siguiente = np.random.choice(nodos_factibles)\n",
    "            cromosoma.remove(siguiente)\n",
    "        solucion.agregar_camino(siguiente)\n",
    "        \n",
    "        if siguiente == 0:\n",
    "            # No hay más nodos siguientes, se debe usar otro auto\n",
    "            solucion.agregar_vehiculo()\n",
    "    \n",
    "    solucion.agregar_camino(0)\n",
    "    return solucion.caminos\n",
    "\n",
    "# Algoritmo de order crosover\n",
    "def crossover(a, b, instancia):\n",
    "    p_a = obtenerCromosoma(a.caminos)\n",
    "    p_b = obtenerCromosoma(b.caminos)\n",
    "    \n",
    "    i, j = sorted(random.sample(range(len(p_a)), 2))\n",
    "    \n",
    "    seg_a = p_a[i:j]\n",
    "    seg_b = p_b[i:j]\n",
    "    \n",
    "    c_a = []\n",
    "    c_b = []\n",
    "    \n",
    "    for k in range(len(p_a)):\n",
    "        if p_a[k] not in seg_b:\n",
    "            c_b.append(p_a[k])\n",
    "        if p_b[k] not in seg_a:\n",
    "            c_a.append(p_b[k])\n",
    "    \n",
    "    cr_a = c_a[:i] + seg_a + c_a[i:]\n",
    "    cr_b = c_b[:i] + seg_b + c_b[i:]\n",
    "    \n",
    "    a.caminos = fenotipo(cr_a, instancia)\n",
    "    b.caminos = fenotipo(cr_b, instancia)\n",
    "    \n",
    "    return a, b\n",
    "\n",
    "def mutar(mutante, instancia):\n",
    "    cr = obtenerCromosoma(mutante.caminos)\n",
    "    \n",
    "    i, j = sorted(random.sample(range(len(cr)), 2))\n",
    "    cr[i], cr[j] = cr[j], cr[i]\n",
    "    \n",
    "    mutante.caminos = fenotipo(cr, instancia)\n",
    "    return mutante"
   ]
  },
  {
   "cell_type": "code",
   "execution_count": 9,
   "id": "c8c0be54",
   "metadata": {},
   "outputs": [],
   "source": [
    "def spea(instancia, m=10, c_pbb=0.8, m_pbb=0.3, generaciones=10):\n",
    "    poblacion = []\n",
    "    \n",
    "    for x in range(m):\n",
    "        poblacion.append(inicializarIndividuo(instancia))\n",
    "    \n",
    "    pareto_set: [Solucion] = []\n",
    "    pareto_generacion: [Solucion] = []\n",
    "    \n",
    "    for gen in trange(generaciones, desc=\"Generaciones\", unit=\"gen\"):\n",
    "        for solucion in poblacion:\n",
    "            pareto_generacion.append(solucion)\n",
    "            pareto_set.append(solucion)\n",
    "        pareto_set = obtener_pareto_set(pareto_set)\n",
    "        \n",
    "        if (gen != generaciones - 1):\n",
    "            asignacionFitness(poblacion, pareto_set)\n",
    "            u = union(poblacion, pareto_set)\n",
    "            descendientes = [torneoBinario(u) for _ in range(m)]\n",
    "            for a, b in zip(descendientes[::2], descendientes[1::2]):\n",
    "                if random.random() < c_pbb:\n",
    "                    crossover(a, b, instancia)\n",
    "            for mutante in descendientes:\n",
    "                if random.random() < m_pbb:\n",
    "                    mutar(mutante, instancia)\n",
    "            poblacion = descendientes\n",
    "    return pareto_set, poblacion, pareto_generacion"
   ]
  },
  {
   "cell_type": "code",
   "execution_count": 10,
   "id": "b23fcd1f",
   "metadata": {},
   "outputs": [],
   "source": [
    "def graficar_spea(pareto_set, poblacion, pareto_generacion, save=None):\n",
    "    fig, ax = plt.subplots(figsize=(10, 8))\n",
    "\n",
    "    ax.plot([s.tiempo_total for s in pareto_generacion],\n",
    "            [s.num_vehiculos for s in pareto_generacion],\n",
    "            'bo',\n",
    "            label=\"Soluciones\")\n",
    "    \n",
    "    ax.plot([s.tiempo_total for s in poblacion],\n",
    "            [s.num_vehiculos for s in poblacion],\n",
    "            'go',\n",
    "            label=\"Población\")\n",
    "\n",
    "    ax.plot([s.tiempo_total for s in pareto_set],\n",
    "            [s.num_vehiculos for s in pareto_set],\n",
    "            'ro',\n",
    "            label=\"Pareto Set\")\n",
    "\n",
    "    ax.set(xlabel=\"Tiempo de viaje\",\n",
    "           ylabel=\"Nº de Vehículos\",\n",
    "           title=\"Frente Pareto (SPEA)\")\n",
    "    ax.yaxis.set_major_locator(ticker.MultipleLocator())\n",
    "    ax.legend(loc='upper right')\n",
    "\n",
    "    if save:\n",
    "        os.makedirs(\"figs\", exist_ok=True)\n",
    "        plt.savefig(f\"figs/{save}\")"
   ]
  },
  {
   "cell_type": "markdown",
   "id": "4015f8cd",
   "metadata": {},
   "source": [
    "### Ejecuta el algoritmo SPEA"
   ]
  },
  {
   "cell_type": "code",
   "execution_count": 11,
   "id": "b1bd9785",
   "metadata": {
    "scrolled": true
   },
   "outputs": [
    {
     "data": {
      "text/plain": "Generaciones:   0%|          | 0/30 [00:00<?, ?gen/s]",
      "application/vnd.jupyter.widget-view+json": {
       "version_major": 2,
       "version_minor": 0,
       "model_id": "e3669c7dbffe4eb5810306a5f4d8aa50"
      }
     },
     "metadata": {},
     "output_type": "display_data"
    },
    {
     "data": {
      "text/plain": "<Figure size 720x576 with 1 Axes>",
      "image/png": "[encoded data removed]"
     },
     "metadata": {
      "needs_background": "light"
     },
     "output_type": "display_data"
    }
   ],
   "source": [
    "instancia = procesar_instancia(\"datos/original/vrptw_c101.txt\")\n",
    "\n",
    "np.random.seed(777) # Para reproducibilidad\n",
    "par, pob, gen = spea(instancia, m=30, c_pbb=0.8, m_pbb=0.3, generaciones=30)\n",
    "\n",
    "graficar_spea(par, pob, gen, save=\"ParetoSetSPEA.jpg\")"
   ]
  },
  {
   "cell_type": "markdown",
   "id": "d1aa3bd1",
   "metadata": {},
   "source": [
    "### Métricas de comparación"
   ]
  },
  {
   "cell_type": "code",
   "execution_count": 12,
   "id": "3dda0767",
   "metadata": {},
   "outputs": [],
   "source": [
    "def valor_promedio(pareto_sets, metrica):\n",
    "    valor = 0\n",
    "    for p in pareto_sets:\n",
    "        valor += metrica(p)\n",
    "    return valor/len(pareto_sets)\n",
    "\n",
    "def dist(p, q, std):\n",
    "    dy = (p.num_vehiculos - q.num_vehiculos) / std['num_vehiculos']\n",
    "    dx = (p.tiempo_total - q.tiempo_total) / std['tiempo_total']\n",
    "    return np.linalg.norm([dx, dy])\n",
    "\n",
    "def m1(pareto_set, ytrue):    \n",
    "    suma = 0\n",
    "    for p in pareto_set:\n",
    "        d = []\n",
    "        for q in ytrue:\n",
    "            d.append(dist(p, q, std))\n",
    "        suma += min(d)\n",
    "    return suma/len(pareto_set)\n",
    "\n",
    "def m2(pareto_set, sigma):\n",
    "    cont = 0\n",
    "    for p in pareto_set:\n",
    "        for q in pareto_set:\n",
    "            if dist(p, q, std) > sigma:\n",
    "                cont += 1\n",
    "    return cont/(len(pareto_set)+1)\n",
    "\n",
    "def m3(pareto_set):\n",
    "    d = []\n",
    "    for p in pareto_set:\n",
    "        for q in pareto_set:\n",
    "            d.append(dist(p, q, std))\n",
    "    return max(d)\n",
    "\n",
    "def error(pareto_set, ytrue):\n",
    "    e = 0\n",
    "    for i in pareto_set:\n",
    "        if i in ytrue:\n",
    "            e += 1\n",
    "    return e/len(pareto_set)\n",
    "\n",
    "def graficar_ytrue(ytrue, m3as, spea, save=False):\n",
    "    fig, ax = plt.subplots(figsize=(10, 8))\n",
    "    \n",
    "    ax.plot([s.tiempo_total for s in m3as],\n",
    "            [s.num_vehiculos for s in m3as],\n",
    "            'go',\n",
    "            label=\"Soluciones M3AS\")\n",
    "\n",
    "    ax.plot([s.tiempo_total for s in spea],\n",
    "            [s.num_vehiculos for s in spea],\n",
    "            'bo',\n",
    "            label=\"Soluciones SPEA\")\n",
    "\n",
    "    ax.plot([s.tiempo_total for s in ytrue],\n",
    "            [s.num_vehiculos for s in ytrue],\n",
    "            'ro',\n",
    "            label=\"Frente Ytrue\")\n",
    "\n",
    "    ax.set(xlabel=\"Tiempo de viaje\",\n",
    "           ylabel=\"Nº de Vehículos\",\n",
    "           title=\"Frente Pareto\")\n",
    "    ax.yaxis.set_major_locator(ticker.MultipleLocator())\n",
    "    ax.legend(loc='upper right')\n",
    "    \n",
    "    if save:\n",
    "        os.makedirs(\"figs\", exist_ok=True)\n",
    "        plt.savefig(f\"figs/{save}\")"
   ]
  },
  {
   "cell_type": "markdown",
   "id": "e37bbae4",
   "metadata": {},
   "source": [
    "### Ejecuciones de prueba"
   ]
  },
  {
   "cell_type": "markdown",
   "source": [
    "Instancia RC101"
   ],
   "metadata": {
    "collapsed": false,
    "pycharm": {
     "name": "#%% md\n"
    }
   }
  },
  {
   "cell_type": "code",
   "execution_count": 13,
   "id": "ed540166",
   "metadata": {},
   "outputs": [
    {
     "data": {
      "text/plain": "Generaciones:   0%|          | 0/5 [00:00<?, ?gen/s]",
      "application/vnd.jupyter.widget-view+json": {
       "version_major": 2,
       "version_minor": 0,
       "model_id": "abca12e5916947ee8dd438711eb013a5"
      }
     },
     "metadata": {},
     "output_type": "display_data"
    },
    {
     "data": {
      "text/plain": "Hormigas:   0%|          | 0/5 [00:00<?, ?hormiga/s]",
      "application/vnd.jupyter.widget-view+json": {
       "version_major": 2,
       "version_minor": 0,
       "model_id": "adcd64691d14449c85036877a2461e3e"
      }
     },
     "metadata": {},
     "output_type": "display_data"
    },
    {
     "data": {
      "text/plain": "Hormigas:   0%|          | 0/5 [00:00<?, ?hormiga/s]",
      "application/vnd.jupyter.widget-view+json": {
       "version_major": 2,
       "version_minor": 0,
       "model_id": "4bdf5b17b87d44b1953a48dbef1658e9"
      }
     },
     "metadata": {},
     "output_type": "display_data"
    },
    {
     "data": {
      "text/plain": "Hormigas:   0%|          | 0/5 [00:00<?, ?hormiga/s]",
      "application/vnd.jupyter.widget-view+json": {
       "version_major": 2,
       "version_minor": 0,
       "model_id": "2d82bbdef3bd43a7baa2b64d8754984d"
      }
     },
     "metadata": {},
     "output_type": "display_data"
    },
    {
     "data": {
      "text/plain": "Hormigas:   0%|          | 0/5 [00:00<?, ?hormiga/s]",
      "application/vnd.jupyter.widget-view+json": {
       "version_major": 2,
       "version_minor": 0,
       "model_id": "177605ae91a2400f826ac2d685bfbbdd"
      }
     },
     "metadata": {},
     "output_type": "display_data"
    },
    {
     "data": {
      "text/plain": "Hormigas:   0%|          | 0/5 [00:00<?, ?hormiga/s]",
      "application/vnd.jupyter.widget-view+json": {
       "version_major": 2,
       "version_minor": 0,
       "model_id": "aa1ba381785a412b8aab70cdde139e51"
      }
     },
     "metadata": {},
     "output_type": "display_data"
    },
    {
     "data": {
      "text/plain": "Generaciones:   0%|          | 0/10 [00:00<?, ?gen/s]",
      "application/vnd.jupyter.widget-view+json": {
       "version_major": 2,
       "version_minor": 0,
       "model_id": "2ab0eead679b44d8bb672d64ea92b92e"
      }
     },
     "metadata": {},
     "output_type": "display_data"
    },
    {
     "data": {
      "text/plain": "Generaciones:   0%|          | 0/5 [00:00<?, ?gen/s]",
      "application/vnd.jupyter.widget-view+json": {
       "version_major": 2,
       "version_minor": 0,
       "model_id": "07be41dfe1f74463b7e357778d2de937"
      }
     },
     "metadata": {},
     "output_type": "display_data"
    },
    {
     "data": {
      "text/plain": "Hormigas:   0%|          | 0/5 [00:00<?, ?hormiga/s]",
      "application/vnd.jupyter.widget-view+json": {
       "version_major": 2,
       "version_minor": 0,
       "model_id": "dc8fd958ff3f427a8e1823b618105375"
      }
     },
     "metadata": {},
     "output_type": "display_data"
    },
    {
     "data": {
      "text/plain": "Hormigas:   0%|          | 0/5 [00:00<?, ?hormiga/s]",
      "application/vnd.jupyter.widget-view+json": {
       "version_major": 2,
       "version_minor": 0,
       "model_id": "60d4e650facd4869b00cb69b2e2c5e03"
      }
     },
     "metadata": {},
     "output_type": "display_data"
    },
    {
     "data": {
      "text/plain": "Hormigas:   0%|          | 0/5 [00:00<?, ?hormiga/s]",
      "application/vnd.jupyter.widget-view+json": {
       "version_major": 2,
       "version_minor": 0,
       "model_id": "1bc00f648a8a47fe88c946475b073025"
      }
     },
     "metadata": {},
     "output_type": "display_data"
    },
    {
     "data": {
      "text/plain": "Hormigas:   0%|          | 0/5 [00:00<?, ?hormiga/s]",
      "application/vnd.jupyter.widget-view+json": {
       "version_major": 2,
       "version_minor": 0,
       "model_id": "1dea60396f6c4a38b8b7552b40a2b395"
      }
     },
     "metadata": {},
     "output_type": "display_data"
    },
    {
     "data": {
      "text/plain": "Hormigas:   0%|          | 0/5 [00:00<?, ?hormiga/s]",
      "application/vnd.jupyter.widget-view+json": {
       "version_major": 2,
       "version_minor": 0,
       "model_id": "79fcf759681f4c6093f35c8018472483"
      }
     },
     "metadata": {},
     "output_type": "display_data"
    },
    {
     "data": {
      "text/plain": "Generaciones:   0%|          | 0/10 [00:00<?, ?gen/s]",
      "application/vnd.jupyter.widget-view+json": {
       "version_major": 2,
       "version_minor": 0,
       "model_id": "e6e369d1471449fbbb2a6cf9c94f6550"
      }
     },
     "metadata": {},
     "output_type": "display_data"
    },
    {
     "data": {
      "text/plain": "Generaciones:   0%|          | 0/5 [00:00<?, ?gen/s]",
      "application/vnd.jupyter.widget-view+json": {
       "version_major": 2,
       "version_minor": 0,
       "model_id": "452f6d7dd688491db6034ac20aaf1359"
      }
     },
     "metadata": {},
     "output_type": "display_data"
    },
    {
     "data": {
      "text/plain": "Hormigas:   0%|          | 0/5 [00:00<?, ?hormiga/s]",
      "application/vnd.jupyter.widget-view+json": {
       "version_major": 2,
       "version_minor": 0,
       "model_id": "97f2e40e5b0e4a68a0ea2fdcfee66db1"
      }
     },
     "metadata": {},
     "output_type": "display_data"
    },
    {
     "data": {
      "text/plain": "Hormigas:   0%|          | 0/5 [00:00<?, ?hormiga/s]",
      "application/vnd.jupyter.widget-view+json": {
       "version_major": 2,
       "version_minor": 0,
       "model_id": "05162afc14ff4926ae2a119284fb4abd"
      }
     },
     "metadata": {},
     "output_type": "display_data"
    },
    {
     "data": {
      "text/plain": "Hormigas:   0%|          | 0/5 [00:00<?, ?hormiga/s]",
      "application/vnd.jupyter.widget-view+json": {
       "version_major": 2,
       "version_minor": 0,
       "model_id": "9cc0f2a461b04eb4a1888dcc66275cc0"
      }
     },
     "metadata": {},
     "output_type": "display_data"
    },
    {
     "data": {
      "text/plain": "Hormigas:   0%|          | 0/5 [00:00<?, ?hormiga/s]",
      "application/vnd.jupyter.widget-view+json": {
       "version_major": 2,
       "version_minor": 0,
       "model_id": "3b2ad2056b2f40ae825b4485679eb1c3"
      }
     },
     "metadata": {},
     "output_type": "display_data"
    },
    {
     "data": {
      "text/plain": "Hormigas:   0%|          | 0/5 [00:00<?, ?hormiga/s]",
      "application/vnd.jupyter.widget-view+json": {
       "version_major": 2,
       "version_minor": 0,
       "model_id": "f8ed2dc921ff456dbee9ae644bf74879"
      }
     },
     "metadata": {},
     "output_type": "display_data"
    },
    {
     "data": {
      "text/plain": "Generaciones:   0%|          | 0/10 [00:00<?, ?gen/s]",
      "application/vnd.jupyter.widget-view+json": {
       "version_major": 2,
       "version_minor": 0,
       "model_id": "c777c78b7f0a4eb49738c73593159ba0"
      }
     },
     "metadata": {},
     "output_type": "display_data"
    },
    {
     "data": {
      "text/plain": "Generaciones:   0%|          | 0/5 [00:00<?, ?gen/s]",
      "application/vnd.jupyter.widget-view+json": {
       "version_major": 2,
       "version_minor": 0,
       "model_id": "64fe093b7dda4a2096d25e5c61709907"
      }
     },
     "metadata": {},
     "output_type": "display_data"
    },
    {
     "data": {
      "text/plain": "Hormigas:   0%|          | 0/5 [00:00<?, ?hormiga/s]",
      "application/vnd.jupyter.widget-view+json": {
       "version_major": 2,
       "version_minor": 0,
       "model_id": "1c1a751f6f3f4a2fa8c4241de14be23c"
      }
     },
     "metadata": {},
     "output_type": "display_data"
    },
    {
     "data": {
      "text/plain": "Hormigas:   0%|          | 0/5 [00:00<?, ?hormiga/s]",
      "application/vnd.jupyter.widget-view+json": {
       "version_major": 2,
       "version_minor": 0,
       "model_id": "48280430ed8e4fedbf3f866ec5a40df5"
      }
     },
     "metadata": {},
     "output_type": "display_data"
    },
    {
     "data": {
      "text/plain": "Hormigas:   0%|          | 0/5 [00:00<?, ?hormiga/s]",
      "application/vnd.jupyter.widget-view+json": {
       "version_major": 2,
       "version_minor": 0,
       "model_id": "89c3d49860814625b16876de7f512a8e"
      }
     },
     "metadata": {},
     "output_type": "display_data"
    },
    {
     "data": {
      "text/plain": "Hormigas:   0%|          | 0/5 [00:00<?, ?hormiga/s]",
      "application/vnd.jupyter.widget-view+json": {
       "version_major": 2,
       "version_minor": 0,
       "model_id": "f91315e4352a449eb56468f5d5eaeecf"
      }
     },
     "metadata": {},
     "output_type": "display_data"
    },
    {
     "data": {
      "text/plain": "Hormigas:   0%|          | 0/5 [00:00<?, ?hormiga/s]",
      "application/vnd.jupyter.widget-view+json": {
       "version_major": 2,
       "version_minor": 0,
       "model_id": "5b5bb13f5588471ca37af73d39add726"
      }
     },
     "metadata": {},
     "output_type": "display_data"
    },
    {
     "data": {
      "text/plain": "Generaciones:   0%|          | 0/10 [00:00<?, ?gen/s]",
      "application/vnd.jupyter.widget-view+json": {
       "version_major": 2,
       "version_minor": 0,
       "model_id": "25b677f1c049487da8dda70c02bf8a03"
      }
     },
     "metadata": {},
     "output_type": "display_data"
    },
    {
     "data": {
      "text/plain": "Generaciones:   0%|          | 0/5 [00:00<?, ?gen/s]",
      "application/vnd.jupyter.widget-view+json": {
       "version_major": 2,
       "version_minor": 0,
       "model_id": "d3bb387f523a4219837a22995a943e0e"
      }
     },
     "metadata": {},
     "output_type": "display_data"
    },
    {
     "data": {
      "text/plain": "Hormigas:   0%|          | 0/5 [00:00<?, ?hormiga/s]",
      "application/vnd.jupyter.widget-view+json": {
       "version_major": 2,
       "version_minor": 0,
       "model_id": "e983776d46c243a48b00fdce8ce6d035"
      }
     },
     "metadata": {},
     "output_type": "display_data"
    },
    {
     "data": {
      "text/plain": "Hormigas:   0%|          | 0/5 [00:00<?, ?hormiga/s]",
      "application/vnd.jupyter.widget-view+json": {
       "version_major": 2,
       "version_minor": 0,
       "model_id": "38c51e6929664046b588d8ddd47ab803"
      }
     },
     "metadata": {},
     "output_type": "display_data"
    },
    {
     "data": {
      "text/plain": "Hormigas:   0%|          | 0/5 [00:00<?, ?hormiga/s]",
      "application/vnd.jupyter.widget-view+json": {
       "version_major": 2,
       "version_minor": 0,
       "model_id": "6b9d08d82dfe493cbfb9bcd414150447"
      }
     },
     "metadata": {},
     "output_type": "display_data"
    },
    {
     "data": {
      "text/plain": "Hormigas:   0%|          | 0/5 [00:00<?, ?hormiga/s]",
      "application/vnd.jupyter.widget-view+json": {
       "version_major": 2,
       "version_minor": 0,
       "model_id": "5248e3d4f3ff41fe8918d458fa392cd4"
      }
     },
     "metadata": {},
     "output_type": "display_data"
    },
    {
     "data": {
      "text/plain": "Hormigas:   0%|          | 0/5 [00:00<?, ?hormiga/s]",
      "application/vnd.jupyter.widget-view+json": {
       "version_major": 2,
       "version_minor": 0,
       "model_id": "73c9ba7f8a8f48bf86f41aa37a6ca1ed"
      }
     },
     "metadata": {},
     "output_type": "display_data"
    },
    {
     "data": {
      "text/plain": "Generaciones:   0%|          | 0/10 [00:00<?, ?gen/s]",
      "application/vnd.jupyter.widget-view+json": {
       "version_major": 2,
       "version_minor": 0,
       "model_id": "b04b5deb90e44f85ba7b86a83510f40d"
      }
     },
     "metadata": {},
     "output_type": "display_data"
    }
   ],
   "source": [
    "pareto_m3as = []\n",
    "pareto_spea = []\n",
    "soluciones_m3as = []\n",
    "soluciones_spea = []\n",
    "\n",
    "instancia = procesar_instancia(\"datos/original/vrptw_rc101.txt\")\n",
    "np.random.seed(777) # Para reproducibilidad\n",
    "\n",
    "for i in range(5):\n",
    "    p_set, p_gen = m3as(instancia, m=5, p=0.7, beta=0.7, generaciones=5)\n",
    "    par, pob, gen = spea(instancia, m=5, c_pbb=0.8, m_pbb=0.3, generaciones=10)\n",
    "    \n",
    "    pareto_m3as.append(p_set)\n",
    "    pareto_spea.append(par)\n",
    "    soluciones_m3as.extend(p_gen)\n",
    "    soluciones_spea.extend(gen)\n",
    "\n",
    "ytrue = obtener_pareto_set(np.concatenate((*pareto_m3as, *pareto_spea)))"
   ]
  },
  {
   "cell_type": "markdown",
   "id": "8d59f06e",
   "metadata": {},
   "source": [
    "A continuación se muestran las métricas comparativas promedio de los dos algoritmos, a lo largo de las cinco pruebas:"
   ]
  },
  {
   "cell_type": "code",
   "execution_count": 14,
   "id": "d2165913",
   "metadata": {
    "scrolled": true
   },
   "outputs": [
    {
     "name": "stdout",
     "output_type": "stream",
     "text": [
      "Métricas promedio del algoritmo M3AS\n",
      "M1:  0.5456549526168435\n",
      "M2:  0.4\n",
      "M3:  0.4069449606009532\n",
      "Error:  0.3\n",
      "\n",
      "Métricas promedio del algoritmo SPEA\n",
      "M1:  3.561042234080735\n",
      "M2:  0.26666666666666666\n",
      "M3:  0.24597671979871566\n",
      "Error:  0.0\n"
     ]
    },
    {
     "data": {
      "text/plain": "<Figure size 720x576 with 1 Axes>",
      "image/png": "[encoded data removed]"
     },
     "metadata": {
      "needs_background": "light"
     },
     "output_type": "display_data"
    }
   ],
   "source": [
    "std = {'num_vehiculos': np.std([s.num_vehiculos for s in soluciones_m3as + soluciones_spea]),\n",
    "       'tiempo_total': np.std([s.tiempo_total for s in soluciones_m3as + soluciones_spea])}\n",
    "\n",
    "print(\"Métricas promedio del algoritmo M3AS\")\n",
    "print(\"M1: \", valor_promedio(pareto_m3as, lambda p: m1(p, ytrue)))\n",
    "print(\"M2: \", valor_promedio(pareto_m3as, lambda p: m2(p, 0.25)))\n",
    "print(\"M3: \", valor_promedio(pareto_m3as, lambda p: m3(p)))\n",
    "print(\"Error: \", valor_promedio(pareto_m3as, lambda p: error(p, ytrue)))\n",
    "print()\n",
    "print(\"Métricas promedio del algoritmo SPEA\")\n",
    "print(\"M1: \", valor_promedio(pareto_spea, lambda p: m1(p, ytrue)))\n",
    "print(\"M2: \", valor_promedio(pareto_spea, lambda p: m2(p, 0.25)))\n",
    "print(\"M3: \", valor_promedio(pareto_spea, lambda p: m3(p)))\n",
    "print(\"Error: \", valor_promedio(pareto_spea, lambda p: error(p, ytrue)))\n",
    "\n",
    "graficar_ytrue(ytrue, soluciones_m3as, soluciones_spea, save=\"ParetoSetYtrue_RC101.jpg\")"
   ]
  },
  {
   "cell_type": "markdown",
   "source": [
    "Instancia C101"
   ],
   "metadata": {
    "collapsed": false
   }
  },
  {
   "cell_type": "code",
   "execution_count": 15,
   "outputs": [
    {
     "data": {
      "text/plain": "Generaciones:   0%|          | 0/5 [00:00<?, ?gen/s]",
      "application/vnd.jupyter.widget-view+json": {
       "version_major": 2,
       "version_minor": 0,
       "model_id": "556d9f9bc2864c1fb20607859aeeb829"
      }
     },
     "metadata": {},
     "output_type": "display_data"
    },
    {
     "data": {
      "text/plain": "Hormigas:   0%|          | 0/5 [00:00<?, ?hormiga/s]",
      "application/vnd.jupyter.widget-view+json": {
       "version_major": 2,
       "version_minor": 0,
       "model_id": "ef96e5ba48d34b079832e470c2ac2129"
      }
     },
     "metadata": {},
     "output_type": "display_data"
    },
    {
     "data": {
      "text/plain": "Hormigas:   0%|          | 0/5 [00:00<?, ?hormiga/s]",
      "application/vnd.jupyter.widget-view+json": {
       "version_major": 2,
       "version_minor": 0,
       "model_id": "b07131fc6ada495c8a084a243e1c03a2"
      }
     },
     "metadata": {},
     "output_type": "display_data"
    },
    {
     "data": {
      "text/plain": "Hormigas:   0%|          | 0/5 [00:00<?, ?hormiga/s]",
      "application/vnd.jupyter.widget-view+json": {
       "version_major": 2,
       "version_minor": 0,
       "model_id": "63ca7b01cd964b8dadeb88841514aaf1"
      }
     },
     "metadata": {},
     "output_type": "display_data"
    },
    {
     "data": {
      "text/plain": "Hormigas:   0%|          | 0/5 [00:00<?, ?hormiga/s]",
      "application/vnd.jupyter.widget-view+json": {
       "version_major": 2,
       "version_minor": 0,
       "model_id": "8616d9350e6247d8813e5cee51603537"
      }
     },
     "metadata": {},
     "output_type": "display_data"
    },
    {
     "data": {
      "text/plain": "Hormigas:   0%|          | 0/5 [00:00<?, ?hormiga/s]",
      "application/vnd.jupyter.widget-view+json": {
       "version_major": 2,
       "version_minor": 0,
       "model_id": "889e77d9719f4bb28bacefa9054e1dc2"
      }
     },
     "metadata": {},
     "output_type": "display_data"
    },
    {
     "data": {
      "text/plain": "Generaciones:   0%|          | 0/10 [00:00<?, ?gen/s]",
      "application/vnd.jupyter.widget-view+json": {
       "version_major": 2,
       "version_minor": 0,
       "model_id": "342ed44d130a4db986d27ba5b64fc1b2"
      }
     },
     "metadata": {},
     "output_type": "display_data"
    },
    {
     "data": {
      "text/plain": "Generaciones:   0%|          | 0/5 [00:00<?, ?gen/s]",
      "application/vnd.jupyter.widget-view+json": {
       "version_major": 2,
       "version_minor": 0,
       "model_id": "753b9c775f384732920961d79fdbb13f"
      }
     },
     "metadata": {},
     "output_type": "display_data"
    },
    {
     "data": {
      "text/plain": "Hormigas:   0%|          | 0/5 [00:00<?, ?hormiga/s]",
      "application/vnd.jupyter.widget-view+json": {
       "version_major": 2,
       "version_minor": 0,
       "model_id": "f5d4a28da2d748cbbdc723ca46557305"
      }
     },
     "metadata": {},
     "output_type": "display_data"
    },
    {
     "data": {
      "text/plain": "Hormigas:   0%|          | 0/5 [00:00<?, ?hormiga/s]",
      "application/vnd.jupyter.widget-view+json": {
       "version_major": 2,
       "version_minor": 0,
       "model_id": "6f1c4c8921604543adfad975fab286bd"
      }
     },
     "metadata": {},
     "output_type": "display_data"
    },
    {
     "data": {
      "text/plain": "Hormigas:   0%|          | 0/5 [00:00<?, ?hormiga/s]",
      "application/vnd.jupyter.widget-view+json": {
       "version_major": 2,
       "version_minor": 0,
       "model_id": "77805ac268fc41bdac763521fec30a29"
      }
     },
     "metadata": {},
     "output_type": "display_data"
    },
    {
     "data": {
      "text/plain": "Hormigas:   0%|          | 0/5 [00:00<?, ?hormiga/s]",
      "application/vnd.jupyter.widget-view+json": {
       "version_major": 2,
       "version_minor": 0,
       "model_id": "65a69aadeef54c70828c50d11df73cb0"
      }
     },
     "metadata": {},
     "output_type": "display_data"
    },
    {
     "data": {
      "text/plain": "Hormigas:   0%|          | 0/5 [00:00<?, ?hormiga/s]",
      "application/vnd.jupyter.widget-view+json": {
       "version_major": 2,
       "version_minor": 0,
       "model_id": "0b667b06c4a947c88913471468e32d7c"
      }
     },
     "metadata": {},
     "output_type": "display_data"
    },
    {
     "data": {
      "text/plain": "Generaciones:   0%|          | 0/10 [00:00<?, ?gen/s]",
      "application/vnd.jupyter.widget-view+json": {
       "version_major": 2,
       "version_minor": 0,
       "model_id": "ab9b4a731eb3450a9efe7415f6070b41"
      }
     },
     "metadata": {},
     "output_type": "display_data"
    },
    {
     "data": {
      "text/plain": "Generaciones:   0%|          | 0/5 [00:00<?, ?gen/s]",
      "application/vnd.jupyter.widget-view+json": {
       "version_major": 2,
       "version_minor": 0,
       "model_id": "e070fa4fb65c4137ac9de4c6a3c39856"
      }
     },
     "metadata": {},
     "output_type": "display_data"
    },
    {
     "data": {
      "text/plain": "Hormigas:   0%|          | 0/5 [00:00<?, ?hormiga/s]",
      "application/vnd.jupyter.widget-view+json": {
       "version_major": 2,
       "version_minor": 0,
       "model_id": "0c2ae68f80214e7080d32f3539df7b68"
      }
     },
     "metadata": {},
     "output_type": "display_data"
    },
    {
     "data": {
      "text/plain": "Hormigas:   0%|          | 0/5 [00:00<?, ?hormiga/s]",
      "application/vnd.jupyter.widget-view+json": {
       "version_major": 2,
       "version_minor": 0,
       "model_id": "619448dc602148fd87e0b32ff9c25700"
      }
     },
     "metadata": {},
     "output_type": "display_data"
    },
    {
     "data": {
      "text/plain": "Hormigas:   0%|          | 0/5 [00:00<?, ?hormiga/s]",
      "application/vnd.jupyter.widget-view+json": {
       "version_major": 2,
       "version_minor": 0,
       "model_id": "d64f7dd2be82459abcb2c5677230abb6"
      }
     },
     "metadata": {},
     "output_type": "display_data"
    },
    {
     "data": {
      "text/plain": "Hormigas:   0%|          | 0/5 [00:00<?, ?hormiga/s]",
      "application/vnd.jupyter.widget-view+json": {
       "version_major": 2,
       "version_minor": 0,
       "model_id": "9bd4006f85474d7fa8c90853f16d6305"
      }
     },
     "metadata": {},
     "output_type": "display_data"
    },
    {
     "data": {
      "text/plain": "Hormigas:   0%|          | 0/5 [00:00<?, ?hormiga/s]",
      "application/vnd.jupyter.widget-view+json": {
       "version_major": 2,
       "version_minor": 0,
       "model_id": "e369233ac0cd4b049b71486b09192509"
      }
     },
     "metadata": {},
     "output_type": "display_data"
    },
    {
     "data": {
      "text/plain": "Generaciones:   0%|          | 0/10 [00:00<?, ?gen/s]",
      "application/vnd.jupyter.widget-view+json": {
       "version_major": 2,
       "version_minor": 0,
       "model_id": "3e2eab7bd3a74e1da4e3b1dd68c2bdbd"
      }
     },
     "metadata": {},
     "output_type": "display_data"
    },
    {
     "data": {
      "text/plain": "Generaciones:   0%|          | 0/5 [00:00<?, ?gen/s]",
      "application/vnd.jupyter.widget-view+json": {
       "version_major": 2,
       "version_minor": 0,
       "model_id": "f46d2d80ddbf4d5e94ec079fce1ff1d9"
      }
     },
     "metadata": {},
     "output_type": "display_data"
    },
    {
     "data": {
      "text/plain": "Hormigas:   0%|          | 0/5 [00:00<?, ?hormiga/s]",
      "application/vnd.jupyter.widget-view+json": {
       "version_major": 2,
       "version_minor": 0,
       "model_id": "532a8b4761184a5dbce5c5c31a5c4a24"
      }
     },
     "metadata": {},
     "output_type": "display_data"
    },
    {
     "data": {
      "text/plain": "Hormigas:   0%|          | 0/5 [00:00<?, ?hormiga/s]",
      "application/vnd.jupyter.widget-view+json": {
       "version_major": 2,
       "version_minor": 0,
       "model_id": "39ed75af21524187a63faf099c77eb29"
      }
     },
     "metadata": {},
     "output_type": "display_data"
    },
    {
     "data": {
      "text/plain": "Hormigas:   0%|          | 0/5 [00:00<?, ?hormiga/s]",
      "application/vnd.jupyter.widget-view+json": {
       "version_major": 2,
       "version_minor": 0,
       "model_id": "cc301036cd164c78a0e01108f948c6c8"
      }
     },
     "metadata": {},
     "output_type": "display_data"
    },
    {
     "data": {
      "text/plain": "Hormigas:   0%|          | 0/5 [00:00<?, ?hormiga/s]",
      "application/vnd.jupyter.widget-view+json": {
       "version_major": 2,
       "version_minor": 0,
       "model_id": "0e397debf1d14fbcacf59ac661f04d70"
      }
     },
     "metadata": {},
     "output_type": "display_data"
    },
    {
     "data": {
      "text/plain": "Hormigas:   0%|          | 0/5 [00:00<?, ?hormiga/s]",
      "application/vnd.jupyter.widget-view+json": {
       "version_major": 2,
       "version_minor": 0,
       "model_id": "416ec166f0f84a239a14aba7f74b1816"
      }
     },
     "metadata": {},
     "output_type": "display_data"
    },
    {
     "data": {
      "text/plain": "Generaciones:   0%|          | 0/10 [00:00<?, ?gen/s]",
      "application/vnd.jupyter.widget-view+json": {
       "version_major": 2,
       "version_minor": 0,
       "model_id": "038f1eb19b74446ba2f9f244629eeb5b"
      }
     },
     "metadata": {},
     "output_type": "display_data"
    },
    {
     "data": {
      "text/plain": "Generaciones:   0%|          | 0/5 [00:00<?, ?gen/s]",
      "application/vnd.jupyter.widget-view+json": {
       "version_major": 2,
       "version_minor": 0,
       "model_id": "331f60efeb774e9b8a8442de6945d9ad"
      }
     },
     "metadata": {},
     "output_type": "display_data"
    },
    {
     "data": {
      "text/plain": "Hormigas:   0%|          | 0/5 [00:00<?, ?hormiga/s]",
      "application/vnd.jupyter.widget-view+json": {
       "version_major": 2,
       "version_minor": 0,
       "model_id": "a7d4a4e0709143f5b64b99476f0c5665"
      }
     },
     "metadata": {},
     "output_type": "display_data"
    },
    {
     "data": {
      "text/plain": "Hormigas:   0%|          | 0/5 [00:00<?, ?hormiga/s]",
      "application/vnd.jupyter.widget-view+json": {
       "version_major": 2,
       "version_minor": 0,
       "model_id": "f699f930da75427c9d72839c4bb25909"
      }
     },
     "metadata": {},
     "output_type": "display_data"
    },
    {
     "data": {
      "text/plain": "Hormigas:   0%|          | 0/5 [00:00<?, ?hormiga/s]",
      "application/vnd.jupyter.widget-view+json": {
       "version_major": 2,
       "version_minor": 0,
       "model_id": "5a1441cb3afe44c1b4d834acb4577e4e"
      }
     },
     "metadata": {},
     "output_type": "display_data"
    },
    {
     "data": {
      "text/plain": "Hormigas:   0%|          | 0/5 [00:00<?, ?hormiga/s]",
      "application/vnd.jupyter.widget-view+json": {
       "version_major": 2,
       "version_minor": 0,
       "model_id": "fe869d2a26b5486e8070b8c0e58b9696"
      }
     },
     "metadata": {},
     "output_type": "display_data"
    },
    {
     "data": {
      "text/plain": "Hormigas:   0%|          | 0/5 [00:00<?, ?hormiga/s]",
      "application/vnd.jupyter.widget-view+json": {
       "version_major": 2,
       "version_minor": 0,
       "model_id": "1b3cf00efa6346398ccc6e81674b4e7e"
      }
     },
     "metadata": {},
     "output_type": "display_data"
    },
    {
     "data": {
      "text/plain": "Generaciones:   0%|          | 0/10 [00:00<?, ?gen/s]",
      "application/vnd.jupyter.widget-view+json": {
       "version_major": 2,
       "version_minor": 0,
       "model_id": "ab77c92382e145c7871268914f91eb36"
      }
     },
     "metadata": {},
     "output_type": "display_data"
    }
   ],
   "source": [
    "pareto_m3as = []\n",
    "pareto_spea = []\n",
    "soluciones_m3as = []\n",
    "soluciones_spea = []\n",
    "\n",
    "instancia = procesar_instancia(\"datos/original/vrptw_c101.txt\")\n",
    "np.random.seed(777) # Para reproducibilidad\n",
    "\n",
    "for i in range(5):\n",
    "    p_set, p_gen = m3as(instancia, m=5, p=0.7, beta=0.7, generaciones=5)\n",
    "    par, pob, gen = spea(instancia, m=5, c_pbb=0.8, m_pbb=0.3, generaciones=10)\n",
    "\n",
    "    pareto_m3as.append(p_set)\n",
    "    pareto_spea.append(par)\n",
    "    soluciones_m3as.extend(p_gen)\n",
    "    soluciones_spea.extend(gen)\n",
    "\n",
    "ytrue = obtener_pareto_set(np.concatenate((*pareto_m3as, *pareto_spea)))"
   ],
   "metadata": {
    "collapsed": false,
    "pycharm": {
     "name": "#%%\n"
    }
   }
  },
  {
   "cell_type": "markdown",
   "source": [
    "A continuación se muestran las métricas comparativas promedio de los dos algoritmos, a lo largo de las cinco pruebas:"
   ],
   "metadata": {
    "collapsed": false
   }
  },
  {
   "cell_type": "code",
   "execution_count": 16,
   "outputs": [
    {
     "name": "stdout",
     "output_type": "stream",
     "text": [
      "Métricas promedio del algoritmo M3AS\n",
      "M1:  0.20259618729355128\n",
      "M2:  0.5666666666666667\n",
      "M3:  0.39379184140640844\n",
      "Error:  0.5\n",
      "\n",
      "Métricas promedio del algoritmo SPEA\n",
      "M1:  3.8991284799114085\n",
      "M2:  0.5333333333333333\n",
      "M3:  0.3447677417984763\n",
      "Error:  0.0\n"
     ]
    },
    {
     "data": {
      "text/plain": "<Figure size 720x576 with 1 Axes>",
      "image/png": "[encoded data removed]"
     },
     "metadata": {
      "needs_background": "light"
     },
     "output_type": "display_data"
    }
   ],
   "source": [
    "std = {'num_vehiculos': np.std([s.num_vehiculos for s in soluciones_m3as + soluciones_spea]),\n",
    "       'tiempo_total': np.std([s.tiempo_total for s in soluciones_m3as + soluciones_spea])}\n",
    "\n",
    "print(\"Métricas promedio del algoritmo M3AS\")\n",
    "print(\"M1: \", valor_promedio(pareto_m3as, lambda p: m1(p, ytrue)))\n",
    "print(\"M2: \", valor_promedio(pareto_m3as, lambda p: m2(p, 0.25)))\n",
    "print(\"M3: \", valor_promedio(pareto_m3as, lambda p: m3(p)))\n",
    "print(\"Error: \", valor_promedio(pareto_m3as, lambda p: error(p, ytrue)))\n",
    "print()\n",
    "print(\"Métricas promedio del algoritmo SPEA\")\n",
    "print(\"M1: \", valor_promedio(pareto_spea, lambda p: m1(p, ytrue)))\n",
    "print(\"M2: \", valor_promedio(pareto_spea, lambda p: m2(p, 0.25)))\n",
    "print(\"M3: \", valor_promedio(pareto_spea, lambda p: m3(p)))\n",
    "print(\"Error: \", valor_promedio(pareto_spea, lambda p: error(p, ytrue)))\n",
    "\n",
    "graficar_ytrue(ytrue, soluciones_m3as, soluciones_spea, save=\"ParetoSetYtrue_C101.jpg\")"
   ],
   "metadata": {
    "collapsed": false,
    "pycharm": {
     "name": "#%%\n"
    }
   }
  }
 ],
 "metadata": {
  "kernelspec": {
   "display_name": "Python 3",
   "language": "python",
   "name": "python3"
  },
  "language_info": {
   "codemirror_mode": {
    "name": "ipython",
    "version": 3
   },
   "file_extension": ".py",
   "mimetype": "text/x-python",
   "name": "python",
   "nbconvert_exporter": "python",
   "pygments_lexer": "ipython3",
   "version": "3.9.6"
  }
 },
 "nbformat": 4,
 "nbformat_minor": 5
}