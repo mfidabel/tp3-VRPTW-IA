{
 "cells": [
  {
   "cell_type": "markdown",
   "id": "cde58f3c",
   "metadata": {},
   "source": [
    "### Importa los módulos necesarios"
   ]
  },
  {
   "cell_type": "code",
   "execution_count": 1,
   "id": "c35e77ee",
   "metadata": {},
   "outputs": [],
   "source": [
    "import random\n",
    "import math\n",
    "import os\n",
    "\n",
    "import numpy as np\n",
    "import pandas as pd\n",
    "import matplotlib.pyplot as plt\n",
    "import matplotlib.ticker as ticker\n",
    "\n",
    "from paretoset import paretoset\n",
    "from tqdm.notebook import trange, tqdm\n",
    "\n",
    "%matplotlib inline\n",
    "\n",
    "import matplotlib.pyplot as plt"
   ]
  },
  {
   "cell_type": "markdown",
   "id": "31a7d56a",
   "metadata": {},
   "source": [
    "### Definición del problema"
   ]
  },
  {
   "cell_type": "code",
   "execution_count": 2,
   "id": "62972280",
   "metadata": {},
   "outputs": [],
   "source": [
    "class Cliente:\n",
    "    def __init__(self, numero, x, y, demanda, inicio, fin, tiempo):\n",
    "        self.numero = int(float(numero))\n",
    "        self.x = float(x)\n",
    "        self.y = float(y)\n",
    "        self.demanda = float(demanda)\n",
    "        self.inicio = float(inicio)\n",
    "        self.fin = float(fin)\n",
    "        self.tiempo = float(tiempo)\n",
    "\n",
    "    @property\n",
    "    def coords(self):\n",
    "        return np.array([self.x, self.y])"
   ]
  },
  {
   "cell_type": "code",
   "execution_count": 3,
   "id": "851de6ec",
   "metadata": {},
   "outputs": [],
   "source": [
    "# Preprocesar los datos de entrada\n",
    "def procesar_instancia(filename):\n",
    "    with open(filename, \"r\") as f:\n",
    "        lineas = f.readlines()\n",
    "\n",
    "    # Obtener clientes y capacidad\n",
    "    clientes = int(lineas[1])\n",
    "    capacidad = int(lineas[3])\n",
    "\n",
    "    # Obtener por cada cliente los datos\n",
    "    lista = []\n",
    "    for cliente in lineas[5:]:\n",
    "        lista.append(Cliente(*cliente.strip().split()))\n",
    "\n",
    "    return {'capacidad': capacidad, 'clientes': lista, 'num': len(lista)}\n",
    "\n",
    "# Halla la distancia euclidiana entre dos clientes\n",
    "def hallar_tiempo(i: int, j: int, clientes: [Cliente]):\n",
    "    return np.linalg.norm(clientes[i].coords - clientes[j].coords)\n",
    "\n",
    "# Convierte la lista en un pareto set\n",
    "def obtener_pareto_set(lista):\n",
    "    objective_values_array = np.vstack([\n",
    "        [s.num_vehiculos, s.tiempo_total] for s in lista\n",
    "    ])\n",
    "    mask = paretoset(objective_values_array, sense=[\"min\", \"min\"])\n",
    "    return [solucion for (solucion, m) in zip(lista, mask) if m]"
   ]
  },
  {
   "cell_type": "code",
   "execution_count": 4,
   "id": "304bd6e8",
   "metadata": {},
   "outputs": [],
   "source": [
    "class Solucion:\n",
    "    def __init__(self, instancia):\n",
    "        self.visitados = np.zeros(instancia['num'], dtype=np.bool8)\n",
    "        self.visitados[0] = True\n",
    "        self.caminos = [[]]\n",
    "        self.tiempo_actual = 0\n",
    "        self.consumo_capacidad = 0\n",
    "        \n",
    "        self.capacidad = instancia['capacidad']\n",
    "        self.clientes = instancia['clientes']\n",
    "\n",
    "    @property\n",
    "    def num_vehiculos(self):\n",
    "        return len(self.caminos)\n",
    "\n",
    "    @property\n",
    "    def nodo_actual(self):\n",
    "        if len(self.caminos[-1]) > 0:\n",
    "            _ , actual = self.caminos[-1][-1]\n",
    "        else:\n",
    "            actual = 0\n",
    "        return actual\n",
    "\n",
    "    def camino_en_vehiculo(self, i):\n",
    "        return self.caminos[i]\n",
    "\n",
    "    @property\n",
    "    def completo(self):\n",
    "        return False not in self.visitados\n",
    "\n",
    "    @property\n",
    "    def siguientes_nodos(self):\n",
    "        i = self.nodo_actual\n",
    "        no_visitados = np.where(self.visitados == False)[0]\n",
    "        siguientes_j = []\n",
    "\n",
    "        for j in no_visitados:\n",
    "            # Verificar que cumpla la ventana\n",
    "            tiempo = hallar_tiempo(i, j, self.clientes)\n",
    "            tiempo_al_llegar = max(self.tiempo_actual + tiempo, self.clientes[j].inicio)\n",
    "            \n",
    "            if tiempo_al_llegar + self.clientes[j].tiempo > self.clientes[j].fin:\n",
    "                continue # No va a poder atenderle antes del cierre\n",
    "            \n",
    "            # Verificar que cumpla la capacidad del vehiculo\n",
    "            if self.consumo_capacidad + self.clientes[j].demanda > self.capacidad:\n",
    "                continue # Supera la capacidad\n",
    "\n",
    "            # Se puede visitar\n",
    "            siguientes_j.append(j)\n",
    "\n",
    "        return siguientes_j\n",
    "\n",
    "    def agregar_camino(self, j):\n",
    "        if j != 0 and self.visitados[j]:\n",
    "            raise Exception(\"El cliente ya fue visitado.\")\n",
    "        \n",
    "        # El sumamos al tiempo lo que cuesta llegar hasta j y su servicio (se incluye la espera si llega antes)\n",
    "        self.tiempo_actual = max(hallar_tiempo(self.nodo_actual, j, self.clientes) + \n",
    "                                 self.tiempo_actual, self.clientes[j].inicio) + self.clientes[j].tiempo\n",
    "        self.visitados[j] = True\n",
    "        self.consumo_capacidad = self.consumo_capacidad + self.clientes[j].demanda\n",
    "        camino = (self.nodo_actual, j)\n",
    "        self.caminos[-1].append( camino )\n",
    "\n",
    "    def agregar_vehiculo(self):\n",
    "        self.caminos.append([])\n",
    "        self.tiempo_actual = 0\n",
    "        self.consumo_capacidad = 0\n",
    "\n",
    "    @property\n",
    "    def tiempo_total(self):\n",
    "        \"\"\"\n",
    "        Evalua el tiempo recorrido sin tener en cuenta el tiempo esperado\n",
    "        \"\"\"\n",
    "        tiempo = 0.0\n",
    "        for vehiculo in self.caminos:\n",
    "            for viaje in vehiculo:\n",
    "                tiempo = tiempo + hallar_tiempo(*viaje, self.clientes)\n",
    "\n",
    "        return tiempo"
   ]
  },
  {
   "cell_type": "markdown",
   "id": "6854f8bd",
   "metadata": {},
   "source": [
    "### Implementación del algoritmo M3AS"
   ]
  },
  {
   "cell_type": "code",
   "execution_count": 5,
   "id": "09f00113",
   "metadata": {},
   "outputs": [],
   "source": [
    "# Calcular Función Objetivo delta t\n",
    "def feromona_a_depositar(solucion: Solucion, norm_vehiculo, norm_tiempo):\n",
    "    return 1 / (solucion.num_vehiculos / norm_vehiculo + solucion.tiempo_total / norm_tiempo)\n",
    "\n",
    "\n",
    "def t_max_calculado(feromona: float, p: float):\n",
    "    return feromona / (1 - p)\n",
    "\n",
    "\n",
    "def t_min_calculado(t_max: float, m: int):\n",
    "    return t_max / 2 / m\n",
    "\n",
    "\n",
    "def feromona_calculada(i, j, tabla_t, tabla_n_2, beta):\n",
    "    visibilidades = tabla_n_2[i, j] \n",
    "    return tabla_t[i,j] * (visibilidades ** beta )\n",
    "\n",
    "\n",
    "def probabilidades_transicion(i: int, nodos: [int], tabla_t, tabla_n_2, beta: float):\n",
    "    probabilidades = np.array([ feromona_calculada(i,j, tabla_t, tabla_n_2, beta) for j in nodos ])\n",
    "    total_probabilidades = probabilidades.sum()\n",
    "    return probabilidades / total_probabilidades\n",
    "\n",
    "\n",
    "def seleccionar_siguiente_estado(solucion: Solucion, tabla_t, tabla_n_2, beta: float):\n",
    "    # Seleccionar siguiente nodo con distribución de probabilidad\n",
    "    nodos_factibles = solucion.siguientes_nodos\n",
    "\n",
    "    if len(nodos_factibles) > 0: # Hay nodos\n",
    "        return np.random.choice(nodos_factibles, p=probabilidades_transicion(\n",
    "            solucion.nodo_actual, nodos_factibles, tabla_t, tabla_n_2, beta))\n",
    "    else:\n",
    "        # Ya es muy tarde o ya atendió su capacidad máxima\n",
    "        return 0 # Volvemos al deposito\n",
    "\n",
    "\n",
    "def construir_solucion(instancia: dict, tabla_t, tabla_n_2, beta: float) -> Solucion:\n",
    "    solucion = Solucion(instancia)\n",
    "    while not solucion.completo: # While existen estados no visitados\n",
    "        siguiente = seleccionar_siguiente_estado(solucion, tabla_t, tabla_n_2, beta)\n",
    "        solucion.agregar_camino(siguiente)\n",
    "\n",
    "        if siguiente == 0:\n",
    "            # No hay más nodos siguientes, se debe usar otro auto\n",
    "            solucion.agregar_vehiculo()\n",
    "\n",
    "    solucion.agregar_camino(0) # Volver al deposito\n",
    "    return solucion\n",
    "\n",
    "\n",
    "def m3as(instancia, m=100, p=0.7, beta=0.7):\n",
    "\n",
    "    n = instancia['num']\n",
    "    tabla_t = np.full((n, n), 1.0) # T_i,j\n",
    "    tabla_n_2 = np.empty((n, n)) # N_i,j\n",
    "\n",
    "    # Inicializar visibilidad de tiempo\n",
    "    for i in range(n):\n",
    "        for j in range(n):\n",
    "            tabla_n_2[i,j] = 1.0 / hallar_tiempo(i,j, instancia['clientes']) \\\n",
    "                             if hallar_tiempo(i,j, instancia['clientes']) > 0 \\\n",
    "                             else 1\n",
    "    \n",
    "    pareto_set: [Solucion] = []\n",
    "    pareto_generacion: [Solucion] = []\n",
    "    \n",
    "    for generacion in trange(10, desc=\"Generación\"): # While not condición de parada\n",
    "        for _ in trange(m, desc=\"Hormiga\", leave=False): # Por cada hormiga\n",
    "            # Construir solución y evaluar\n",
    "            solucion = construir_solucion(instancia, tabla_t, tabla_n_2, beta)\n",
    "\n",
    "            # Actaulizar pareto si es que domina\n",
    "            pareto_generacion.append(solucion)\n",
    "            pareto_set.append(solucion)\n",
    "        pareto_set = obtener_pareto_set(pareto_set)\n",
    "\n",
    "        # Actualizar Feromonas\n",
    "        tabla_t = tabla_t * (1 - p) # Decadencia\n",
    "\n",
    "        for Y_Known in pareto_set:\n",
    "            # Calcular delta t, tmax y tmin\n",
    "            feromona = feromona_a_depositar(Y_Known, norm_vehiculo=10, norm_tiempo=820.0)\n",
    "            t_max = t_max_calculado(feromona, p)\n",
    "            t_min = t_min_calculado(t_max, m)\n",
    "            # Actualizar\n",
    "            for ruta in Y_Known.caminos:\n",
    "                for (i, j) in ruta:\n",
    "                    tabla_t[i, j] = max(min(tabla_t[i, j] + feromona, t_max), t_min)\n",
    "    \n",
    "    return pareto_set, pareto_generacion"
   ]
  },
  {
   "cell_type": "code",
   "execution_count": 6,
   "id": "a62c669f",
   "metadata": {},
   "outputs": [],
   "source": [
    "def graficar_m3as(pareto_set, pareto_generacion):\n",
    "    fig, ax = plt.subplots(figsize=(10, 8))\n",
    "\n",
    "    ax.plot([s.tiempo_total for s in pareto_generacion],\n",
    "            [s.num_vehiculos for s in pareto_generacion],\n",
    "            'bo',\n",
    "            label=\"Soluciones\")\n",
    "\n",
    "    ax.plot([s.tiempo_total for s in pareto_set],\n",
    "            [s.num_vehiculos for s in pareto_set],\n",
    "            'ro',\n",
    "            label=\"Pareto Set\")\n",
    "\n",
    "    ax.set(xlabel=\"Tiempo de viaje\",\n",
    "           ylabel=\"Nº de Vehículos\",\n",
    "           title=\"Frente Pareto (M3AS)\")\n",
    "    ax.yaxis.set_major_locator(ticker.MultipleLocator())\n",
    "    ax.legend(loc='upper right')\n",
    "\n",
    "    os.makedirs(\"figs\", exist_ok=True)\n",
    "    plt.savefig(\"figs/ParetoSetM3AS.jpg\")"
   ]
  },
  {
   "cell_type": "markdown",
   "id": "493e1e98",
   "metadata": {},
   "source": [
    "### Ejecuta el algoritmo M3AS"
   ]
  },
  {
   "cell_type": "code",
   "execution_count": 7,
   "id": "1e88b684",
   "metadata": {
    "scrolled": false
   },
   "outputs": [
    {
     "data": {
      "application/vnd.jupyter.widget-view+json": {
       "model_id": "dc1608153ded42008fe977f5bb09cc12",
       "version_major": 2,
       "version_minor": 0
      },
      "text/plain": [
       "Generación:   0%|          | 0/10 [00:00<?, ?it/s]"
      ]
     },
     "metadata": {},
     "output_type": "display_data"
    },
    {
     "data": {
      "application/vnd.jupyter.widget-view+json": {
       "model_id": "0b2058e69efc4d25a35f9d195a462487",
       "version_major": 2,
       "version_minor": 0
      },
      "text/plain": [
       "Hormiga:   0%|          | 0/100 [00:00<?, ?it/s]"
      ]
     },
     "metadata": {},
     "output_type": "display_data"
    },
    {
     "data": {
      "application/vnd.jupyter.widget-view+json": {
       "model_id": "1bbf25238bcf440aa44dc1ac5c5d58ca",
       "version_major": 2,
       "version_minor": 0
      },
      "text/plain": [
       "Hormiga:   0%|          | 0/100 [00:00<?, ?it/s]"
      ]
     },
     "metadata": {},
     "output_type": "display_data"
    },
    {
     "data": {
      "application/vnd.jupyter.widget-view+json": {
       "model_id": "b6d393565f0f4db9b4924f064506cbe5",
       "version_major": 2,
       "version_minor": 0
      },
      "text/plain": [
       "Hormiga:   0%|          | 0/100 [00:00<?, ?it/s]"
      ]
     },
     "metadata": {},
     "output_type": "display_data"
    },
    {
     "data": {
      "application/vnd.jupyter.widget-view+json": {
       "model_id": "55cfc4d2935f46e7a6f1219dfddce9c9",
       "version_major": 2,
       "version_minor": 0
      },
      "text/plain": [
       "Hormiga:   0%|          | 0/100 [00:00<?, ?it/s]"
      ]
     },
     "metadata": {},
     "output_type": "display_data"
    },
    {
     "data": {
      "application/vnd.jupyter.widget-view+json": {
       "model_id": "efe91fb615d145b78b7bbb38dcf5f644",
       "version_major": 2,
       "version_minor": 0
      },
      "text/plain": [
       "Hormiga:   0%|          | 0/100 [00:00<?, ?it/s]"
      ]
     },
     "metadata": {},
     "output_type": "display_data"
    },
    {
     "data": {
      "application/vnd.jupyter.widget-view+json": {
       "model_id": "c93e37671c5c440cbc532b3ae88f38da",
       "version_major": 2,
       "version_minor": 0
      },
      "text/plain": [
       "Hormiga:   0%|          | 0/100 [00:00<?, ?it/s]"
      ]
     },
     "metadata": {},
     "output_type": "display_data"
    },
    {
     "data": {
      "application/vnd.jupyter.widget-view+json": {
       "model_id": "d46b8980952b4343930b637d4d427100",
       "version_major": 2,
       "version_minor": 0
      },
      "text/plain": [
       "Hormiga:   0%|          | 0/100 [00:00<?, ?it/s]"
      ]
     },
     "metadata": {},
     "output_type": "display_data"
    },
    {
     "data": {
      "application/vnd.jupyter.widget-view+json": {
       "model_id": "9051784eb8dc4c2eab83490941a2d280",
       "version_major": 2,
       "version_minor": 0
      },
      "text/plain": [
       "Hormiga:   0%|          | 0/100 [00:00<?, ?it/s]"
      ]
     },
     "metadata": {},
     "output_type": "display_data"
    },
    {
     "data": {
      "application/vnd.jupyter.widget-view+json": {
       "model_id": "c4172800184b4b74bff1ce09006a1f4a",
       "version_major": 2,
       "version_minor": 0
      },
      "text/plain": [
       "Hormiga:   0%|          | 0/100 [00:00<?, ?it/s]"
      ]
     },
     "metadata": {},
     "output_type": "display_data"
    },
    {
     "data": {
      "application/vnd.jupyter.widget-view+json": {
       "model_id": "26fa6e70ffbd465593ec0fbea88cd8e7",
       "version_major": 2,
       "version_minor": 0
      },
      "text/plain": [
       "Hormiga:   0%|          | 0/100 [00:00<?, ?it/s]"
      ]
     },
     "metadata": {},
     "output_type": "display_data"
    },
    {
     "data": {
      "image/png": "[encoded data removed]",
      "text/plain": [
       "<Figure size 720x576 with 1 Axes>"
      ]
     },
     "metadata": {
      "needs_background": "light"
     },
     "output_type": "display_data"
    }
   ],
   "source": [
    "instancia = procesar_instancia(\"datos/original/vrptw_c101.txt\")\n",
    "\n",
    "p_set, p_gen = m3as(instancia, m=100, p=0.7, beta=0.7)\n",
    "\n",
    "graficar_m3as(p_set, p_gen)"
   ]
  },
  {
   "cell_type": "markdown",
   "id": "e9883cae",
   "metadata": {},
   "source": [
    "### Implementa el algoritmo SPEA"
   ]
  },
  {
   "cell_type": "code",
   "execution_count": 8,
   "id": "f83dbfef",
   "metadata": {},
   "outputs": [],
   "source": [
    "def individuoRuta(individuo, capacidad, clientes):\n",
    "    ruta = []\n",
    "    sub_ruta = []\n",
    "    capacidad = capacidad\n",
    "    tiempo_limite = clientes[0].fin\n",
    "    carga_vehiculo = 0\n",
    "    tiempo_transcurrido = 0\n",
    "    ultimo_cust_id = 0\n",
    "    for cust_id in individuo:\n",
    "        demanda = clientes[cust_id].demanda\n",
    "        carga_vehiculo_actualizada = carga_vehiculo + demanda\n",
    "        tiempo_servicio = clientes[cust_id].tiempo\n",
    "        tiempo_regreso = hallar_tiempo(cust_id, 0, clientes)\n",
    "        tiempo_transcurrido_actualizado = tiempo_transcurrido + hallar_tiempo(ultimo_cust_id, cust_id, clientes) \\\n",
    "                                          + tiempo_servicio + tiempo_regreso\n",
    "        if (carga_vehiculo_actualizada <= capacidad) and (tiempo_transcurrido_actualizado <= tiempo_limite):\n",
    "            sub_ruta.append(cust_id)\n",
    "            carga_vehiculo = carga_vehiculo_actualizada\n",
    "            tiempo_transcurrido = tiempo_transcurrido_actualizado - tiempo_regreso\n",
    "        else:\n",
    "            ruta.append(sub_ruta)\n",
    "            sub_ruta = [cust_id]\n",
    "            carga_vehiculo = demanda\n",
    "            tiempo_transcurrido = hallar_tiempo(0, cust_id, clientes) + tiempo_servicio\n",
    "        ultimo_cust_id = cust_id\n",
    "    if sub_ruta != []:\n",
    "        ruta.append(sub_ruta)\n",
    "    return ruta\n",
    "\n",
    "def evaluacion(individuo, instancia):\n",
    "    costo_total = 0\n",
    "    cantidad_vehiculo = 0\n",
    "    clientes = instancia['clientes']\n",
    "    ruta = individuoRuta(individuo, instancia['capacidad'], clientes)\n",
    "    \n",
    "    for sub_ruta in ruta:\n",
    "        cantidad_vehiculo += 1\n",
    "        tiempo_subruta = 0\n",
    "        distancia_subruta = 0\n",
    "        tiempo_transcurrido = 0\n",
    "        ultimo_cust_id = 0\n",
    "        \n",
    "        for cust_id in sub_ruta:\n",
    "            distancia = hallar_tiempo(ultimo_cust_id, cust_id, clientes)\n",
    "            distancia_subruta += distancia\n",
    "            tiempo_llegada = tiempo_transcurrido + distancia\n",
    "            costo_tiempo = max(clientes[cust_id].inicio - tiempo_llegada, 0) \\\n",
    "                           + max(tiempo_llegada - clientes[cust_id].fin, 0)\n",
    "            tiempo_subruta += costo_tiempo\n",
    "            tiempo_transcurrido = tiempo_llegada + clientes[cust_id].tiempo\n",
    "            ultimo_cust_id = cust_id\n",
    "        \n",
    "        distancia_subruta += hallar_tiempo(ultimo_cust_id, 0, clientes)\n",
    "        costo_subruta = tiempo_subruta + distancia_subruta\n",
    "        costo_total += costo_subruta\n",
    "    \n",
    "    return costo_total, cantidad_vehiculo\n",
    "\n",
    "def cobertura(x, y):\n",
    "    if (x['costo_total'] <= y['costo_total'] and x['cantidad_vehiculo'] <= y['cantidad_vehiculo']):\n",
    "        return True\n",
    "    else:\n",
    "        return False"
   ]
  },
  {
   "cell_type": "code",
   "execution_count": 9,
   "id": "b61a6a7b",
   "metadata": {},
   "outputs": [],
   "source": [
    "def solucionesNoDominadas(a):\n",
    "    aux = a.copy()\n",
    "    pobDf = determinarDf(aux)\n",
    "    mascara = paretoset(pobDf, sense=[\"min\", \"min\"])\n",
    "    solucion = [x for (x, m) in zip(aux, mascara) if m]\n",
    "    return solucion\n",
    "\n",
    "def union(a, b):\n",
    "    c = [x for x in a]\n",
    "    d = [y for y in b if y not in c]\n",
    "    return c + d\n",
    "\n",
    "def asignacionFitness(poblacion, pareto, instancia, gen):\n",
    "    for ind in poblacion:\n",
    "        ind['costo_total'], ind['cantidad_vehiculo'] = evaluacion(ind['ruta'], instancia)\n",
    "    A = solucionesNoDominadas(poblacion)\n",
    "    B = union(pareto, A)\n",
    "    pareto = solucionesNoDominadas(B)\n",
    "    for paretoInd in pareto:\n",
    "        count = 0\n",
    "        for pobInd in poblacion:\n",
    "            if cobertura(paretoInd, pobInd):\n",
    "                count += 1\n",
    "        peso = float(count / (len(poblacion) + 1))\n",
    "        paretoInd['fitness'] = peso\n",
    "    for pobInd in poblacion:\n",
    "        suma = 0.0\n",
    "        for paretoInd in pareto:\n",
    "            if cobertura(paretoInd, pobInd):\n",
    "                suma = suma + paretoInd['fitness']\n",
    "        pobInd['fitness'] = suma + 1\n",
    "    return poblacion, pareto"
   ]
  },
  {
   "cell_type": "code",
   "execution_count": 10,
   "id": "c296924a",
   "metadata": {},
   "outputs": [],
   "source": [
    "def inicializarIndividuo(instancia):\n",
    "    solucion = Solucion(instancia)\n",
    "    \n",
    "    while not solucion.completo: # While existen estados no visitados\n",
    "        nodos_factibles = solucion.siguientes_nodos\n",
    "        siguiente = np.random.choice(nodos_factibles) if len(nodos_factibles) > 0 else 0\n",
    "        solucion.agregar_camino(siguiente)\n",
    "        \n",
    "        if siguiente == 0:\n",
    "            # No hay más nodos siguientes, se debe usar otro auto\n",
    "            solucion.agregar_vehiculo()\n",
    "    \n",
    "    solucion.agregar_camino(0)\n",
    "    return solucion\n",
    "\n",
    "def torneoBinario(a):\n",
    "    if len(a) != 1:\n",
    "        ganador = random.sample(a, k = 2)\n",
    "        ganador = sorted(ganador, key=lambda x: x.tiempo_total)\n",
    "        a.remove(ganador[0])\n",
    "        return ganador[0]\n",
    "    else:\n",
    "        return a[0]\n",
    "\n",
    "def obtener_cromosoma(caminos):\n",
    "    cromosoma = []\n",
    "    for ruta in caminos:\n",
    "        for arista in ruta:\n",
    "            if arista[0] != 0:\n",
    "                cromosoma.append(arista[0])\n",
    "    return cromosoma\n",
    "\n",
    "def fenotipo(cromosoma, instancia):\n",
    "    solucion = Solucion(instancia)\n",
    "    \n",
    "    while not solucion.completo: # While existen estados no visitados\n",
    "        nodos_factibles = solucion.siguientes_nodos\n",
    "        if len(nodos_factibles) == 0:\n",
    "            siguiente = 0\n",
    "        else:\n",
    "            if cromosoma[0] in nodos_factibles:\n",
    "                siguiente = cromosoma[0]\n",
    "            else:\n",
    "                siguiente = np.random.choice(nodos_factibles)\n",
    "            cromosoma.remove(siguiente)\n",
    "        solucion.agregar_camino(siguiente)\n",
    "        \n",
    "        if siguiente == 0:\n",
    "            # No hay más nodos siguientes, se debe usar otro auto\n",
    "            solucion.agregar_vehiculo()\n",
    "    \n",
    "    solucion.agregar_camino(0)\n",
    "    return solucion.caminos\n",
    "\n",
    "# Algoritmo de order crosover\n",
    "def crossover(a, b, instancia):\n",
    "    p_a = obtener_cromosoma(a.caminos)\n",
    "    p_b = obtener_cromosoma(b.caminos)\n",
    "    \n",
    "    i, j = sorted(random.sample(range(len(p_a)), 2))\n",
    "    \n",
    "    seg_a = p_a[i:j]\n",
    "    seg_b = p_b[i:j]\n",
    "    \n",
    "    c_a = []\n",
    "    c_b = []\n",
    "    \n",
    "    for k in range(len(p_a)):\n",
    "        if p_a[k] not in seg_b:\n",
    "            c_b.append(p_a[k])\n",
    "        if p_b[k] not in seg_a:\n",
    "            c_a.append(p_b[k])\n",
    "    \n",
    "    cr_a = c_a[:i] + seg_a + c_a[i:]\n",
    "    cr_b = c_b[:i] + seg_b + c_b[i:]\n",
    "    \n",
    "    a.caminos = fenotipo(cr_a, instancia)\n",
    "    b.caminos = fenotipo(cr_b, instancia)\n",
    "    \n",
    "    return a, b\n",
    "\n",
    "def mutar(mutante, instancia):\n",
    "    cr = obtener_cromosoma(mutante.caminos)\n",
    "    \n",
    "    i, j = sorted(random.sample(range(len(cr)), 2))\n",
    "    cr[i], cr[j] = cr[j], cr[i]\n",
    "    \n",
    "    mutante.caminos = fenotipo(cr, instancia)\n",
    "    return mutante"
   ]
  },
  {
   "cell_type": "code",
   "execution_count": 11,
   "id": "c8c0be54",
   "metadata": {},
   "outputs": [],
   "source": [
    "def spea(instancia, m=10, c_pbb=0.8, m_pbb=0.3, generaciones=10):\n",
    "    poblacion = []\n",
    "    \n",
    "    for x in range(m):\n",
    "        poblacion.append(inicializarIndividuo(instancia))\n",
    "    \n",
    "    pareto_set: [Solucion] = []\n",
    "    pareto_generacion: [Solucion] = []\n",
    "    \n",
    "    for gen in range(generaciones):\n",
    "        for solucion in poblacion:\n",
    "            pareto_generacion.append(solucion)\n",
    "            pareto_set.append(solucion)\n",
    "        pareto_set = obtener_pareto_set(pareto_set)\n",
    "        \n",
    "        if (gen != generaciones - 1):\n",
    "            u = union(poblacion, pareto_set)\n",
    "            descendientes = [torneoBinario(u) for _ in range(m)]\n",
    "            for a, b in zip(descendientes[::2], descendientes[1::2]):\n",
    "                if random.random() < c_pbb:\n",
    "                    crossover(a, b, instancia)\n",
    "            for mutante in descendientes:\n",
    "                if random.random() < m_pbb:\n",
    "                    mutar(mutante, instancia)\n",
    "            poblacion = descendientes\n",
    "    return pareto_set, poblacion, pareto_generacion"
   ]
  },
  {
   "cell_type": "code",
   "execution_count": 12,
   "id": "f4a61820",
   "metadata": {},
   "outputs": [],
   "source": [
    "def graficar_spea(pareto_set, poblacion, pareto_generacion):\n",
    "    fig, ax = plt.subplots(figsize=(10, 8))\n",
    "\n",
    "    ax.plot([s.tiempo_total for s in pareto_generacion],\n",
    "            [s.num_vehiculos for s in pareto_generacion],\n",
    "            'bo',\n",
    "            label=\"Soluciones\")\n",
    "    \n",
    "    ax.plot([s.tiempo_total for s in poblacion],\n",
    "            [s.num_vehiculos for s in poblacion],\n",
    "            'bo',\n",
    "            label=\"Población\")\n",
    "\n",
    "    ax.plot([s.tiempo_total for s in pareto_set],\n",
    "            [s.num_vehiculos for s in pareto_set],\n",
    "            'ro',\n",
    "            label=\"Pareto Set\")\n",
    "\n",
    "    ax.set(xlabel=\"Tiempo de viaje\",\n",
    "           ylabel=\"Nº de Vehículos\",\n",
    "           title=\"Frente Pareto (SPEA)\")\n",
    "    ax.yaxis.set_major_locator(ticker.MultipleLocator())\n",
    "    ax.legend(loc='upper right')\n",
    "\n",
    "    os.makedirs(\"figs\", exist_ok=True)\n",
    "    plt.savefig(\"figs/ParetoSetSPEA.jpg\")"
   ]
  },
  {
   "cell_type": "markdown",
   "id": "4015f8cd",
   "metadata": {},
   "source": [
    "### Ejecuta el algoritmo SPEA"
   ]
  },
  {
   "cell_type": "code",
   "execution_count": 13,
   "id": "b1bd9785",
   "metadata": {
    "scrolled": true
   },
   "outputs": [
    {
     "data": {
      "image/png": "[encoded data removed]",
      "text/plain": [
       "<Figure size 720x576 with 1 Axes>"
      ]
     },
     "metadata": {
      "needs_background": "light"
     },
     "output_type": "display_data"
    }
   ],
   "source": [
    "instancia = procesar_instancia(\"datos/original/vrptw_rc101.txt\")\n",
    "\n",
    "par, pob, gen = spea(instancia, m=30, c_pbb=0.8, m_pbb=0.3, generaciones=30)\n",
    "\n",
    "graficar_spea(par, pob, gen)"
   ]
  }
 ],
 "metadata": {
  "kernelspec": {
   "display_name": "Python 3",
   "language": "python",
   "name": "python3"
  },
  "language_info": {
   "codemirror_mode": {
    "name": "ipython",
    "version": 3
   },
   "file_extension": ".py",
   "mimetype": "text/x-python",
   "name": "python",
   "nbconvert_exporter": "python",
   "pygments_lexer": "ipython3",
   "version": "3.9.6"
  }
 },
 "nbformat": 4,
 "nbformat_minor": 5
}
